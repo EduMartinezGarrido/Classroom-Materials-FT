{
 "cells": [
  {
   "cell_type": "markdown",
   "metadata": {},
   "source": [
    "# Decision trees"
   ]
  },
  {
   "cell_type": "markdown",
   "metadata": {
    "toc": true
   },
   "source": [
    "<h1>Table of Contents<span class=\"tocSkip\"></span></h1>\n",
    "<div class=\"toc\"><ul class=\"toc-item\"><li><span><a href=\"#Intro\" data-toc-modified-id=\"Intro-1\"><span class=\"toc-item-num\">1&nbsp;&nbsp;</span>Intro</a></span></li><li><span><a href=\"#The-problem\" data-toc-modified-id=\"The-problem-2\"><span class=\"toc-item-num\">2&nbsp;&nbsp;</span>The problem</a></span></li><li><span><a href=\"#Data-exploration\" data-toc-modified-id=\"Data-exploration-3\"><span class=\"toc-item-num\">3&nbsp;&nbsp;</span>Data exploration</a></span></li><li><span><a href=\"#Train-test-splitting\" data-toc-modified-id=\"Train-test-splitting-4\"><span class=\"toc-item-num\">4&nbsp;&nbsp;</span>Train test splitting</a></span></li><li><span><a href=\"#Models\" data-toc-modified-id=\"Models-5\"><span class=\"toc-item-num\">5&nbsp;&nbsp;</span>Models</a></span><ul class=\"toc-item\"><li><span><a href=\"#Baseline-model\" data-toc-modified-id=\"Baseline-model-5.1\"><span class=\"toc-item-num\">5.1&nbsp;&nbsp;</span>Baseline model</a></span></li><li><span><a href=\"#Simple-tree-(depth=1)\" data-toc-modified-id=\"Simple-tree-(depth=1)-5.2\"><span class=\"toc-item-num\">5.2&nbsp;&nbsp;</span>Simple tree (depth=1)</a></span></li><li><span><a href=\"#Bigger-tree-(depth=3)\" data-toc-modified-id=\"Bigger-tree-(depth=3)-5.3\"><span class=\"toc-item-num\">5.3&nbsp;&nbsp;</span>Bigger tree (depth=3)</a></span></li><li><span><a href=\"#Huge-tree-(depth=20)\" data-toc-modified-id=\"Huge-tree-(depth=20)-5.4\"><span class=\"toc-item-num\">5.4&nbsp;&nbsp;</span>Huge tree (depth=20)</a></span></li><li><span><a href=\"#Overfitting\" data-toc-modified-id=\"Overfitting-5.5\"><span class=\"toc-item-num\">5.5&nbsp;&nbsp;</span>Overfitting</a></span></li><li><span><a href=\"#Other-hyperparameters\" data-toc-modified-id=\"Other-hyperparameters-5.6\"><span class=\"toc-item-num\">5.6&nbsp;&nbsp;</span>Other hyperparameters</a></span></li><li><span><a href=\"#Grid-search\" data-toc-modified-id=\"Grid-search-5.7\"><span class=\"toc-item-num\">5.7&nbsp;&nbsp;</span>Grid search</a></span></li></ul></li><li><span><a href=\"#Feature-importance\" data-toc-modified-id=\"Feature-importance-6\"><span class=\"toc-item-num\">6&nbsp;&nbsp;</span>Feature importance</a></span></li><li><span><a href=\"#Summary\" data-toc-modified-id=\"Summary-7\"><span class=\"toc-item-num\">7&nbsp;&nbsp;</span>Summary</a></span></li></ul></div>"
   ]
  },
  {
   "cell_type": "code",
   "execution_count": 1,
   "metadata": {},
   "outputs": [],
   "source": [
    "import pandas as pd\n",
    "import numpy as np\n",
    "\n",
    "import seaborn as sns\n",
    "import matplotlib.pyplot as plt"
   ]
  },
  {
   "cell_type": "markdown",
   "metadata": {},
   "source": [
    "## Intro"
   ]
  },
  {
   "cell_type": "markdown",
   "metadata": {},
   "source": [
    "A decision tree tries to predict the target variable using a logic like the following."
   ]
  },
  {
   "cell_type": "markdown",
   "metadata": {},
   "source": [
    "<img src=\"https://lh4.googleusercontent.com/v9UQUwaQTAXVH90b-Ugyw2_61_uErfYvTBtG-RNRNB_eHUFq9AmAN_2IOdfOETnbXImnQVN-wPC7_YzDgf7urCeyhyx5UZmuSwV8BVsV8VnHxl1KtgpuxDifJ4pLE23ooYXLlnc\" width=600>"
   ]
  },
  {
   "cell_type": "markdown",
   "metadata": {},
   "source": [
    "Decision trees:\n",
    " * are used **both** for classification (previous example Fit/Unfit) and regression\n",
    " * involve stratifying (segmenting) the predictor space...\n",
    " * in an iterative manner\n",
    " * are given this name because splitting rules can be summarized in a tree"
   ]
  },
  {
   "cell_type": "markdown",
   "metadata": {},
   "source": [
    "Decision trees:\n",
    " * are simple\n",
    " * are useful for interpretation\n",
    " * are not very powerful predictors but...\n",
    " * give rise to more complex models, like Random Forest or Gradient Boosted Trees algorithms"
   ]
  },
  {
   "cell_type": "markdown",
   "metadata": {},
   "source": [
    "## The problem"
   ]
  },
  {
   "cell_type": "markdown",
   "metadata": {},
   "source": [
    "Today we will be using a **white wine** dataset"
   ]
  },
  {
   "cell_type": "markdown",
   "metadata": {},
   "source": [
    "Experts have rated several wines, whose physical properties are also given"
   ]
  },
  {
   "cell_type": "code",
   "execution_count": 2,
   "metadata": {},
   "outputs": [],
   "source": [
    "df = pd.read_csv(\"../datasets/wine_quality.csv\")"
   ]
  },
  {
   "cell_type": "code",
   "execution_count": 3,
   "metadata": {},
   "outputs": [
    {
     "data": {
      "text/plain": [
       "(4898, 12)"
      ]
     },
     "execution_count": 3,
     "metadata": {},
     "output_type": "execute_result"
    }
   ],
   "source": [
    "df.shape"
   ]
  },
  {
   "cell_type": "code",
   "execution_count": 4,
   "metadata": {},
   "outputs": [
    {
     "data": {
      "text/html": [
       "<div>\n",
       "<style scoped>\n",
       "    .dataframe tbody tr th:only-of-type {\n",
       "        vertical-align: middle;\n",
       "    }\n",
       "\n",
       "    .dataframe tbody tr th {\n",
       "        vertical-align: top;\n",
       "    }\n",
       "\n",
       "    .dataframe thead th {\n",
       "        text-align: right;\n",
       "    }\n",
       "</style>\n",
       "<table border=\"1\" class=\"dataframe\">\n",
       "  <thead>\n",
       "    <tr style=\"text-align: right;\">\n",
       "      <th></th>\n",
       "      <th>fixed acidity</th>\n",
       "      <th>volatile acidity</th>\n",
       "      <th>citric acid</th>\n",
       "      <th>residual sugar</th>\n",
       "      <th>chlorides</th>\n",
       "      <th>free sulfur dioxide</th>\n",
       "      <th>total sulfur dioxide</th>\n",
       "      <th>density</th>\n",
       "      <th>pH</th>\n",
       "      <th>sulphates</th>\n",
       "      <th>alcohol</th>\n",
       "      <th>quality</th>\n",
       "    </tr>\n",
       "  </thead>\n",
       "  <tbody>\n",
       "    <tr>\n",
       "      <th>852</th>\n",
       "      <td>6.9</td>\n",
       "      <td>0.180</td>\n",
       "      <td>0.36</td>\n",
       "      <td>1.3</td>\n",
       "      <td>0.036</td>\n",
       "      <td>40.0</td>\n",
       "      <td>117.0</td>\n",
       "      <td>0.99340</td>\n",
       "      <td>3.27</td>\n",
       "      <td>0.95</td>\n",
       "      <td>9.5</td>\n",
       "      <td>7</td>\n",
       "    </tr>\n",
       "    <tr>\n",
       "      <th>4609</th>\n",
       "      <td>6.0</td>\n",
       "      <td>0.615</td>\n",
       "      <td>0.04</td>\n",
       "      <td>0.8</td>\n",
       "      <td>0.032</td>\n",
       "      <td>8.0</td>\n",
       "      <td>50.0</td>\n",
       "      <td>0.99036</td>\n",
       "      <td>3.14</td>\n",
       "      <td>0.40</td>\n",
       "      <td>11.0</td>\n",
       "      <td>4</td>\n",
       "    </tr>\n",
       "    <tr>\n",
       "      <th>1252</th>\n",
       "      <td>5.6</td>\n",
       "      <td>0.245</td>\n",
       "      <td>0.32</td>\n",
       "      <td>1.1</td>\n",
       "      <td>0.047</td>\n",
       "      <td>24.0</td>\n",
       "      <td>152.0</td>\n",
       "      <td>0.99270</td>\n",
       "      <td>3.12</td>\n",
       "      <td>0.42</td>\n",
       "      <td>9.3</td>\n",
       "      <td>6</td>\n",
       "    </tr>\n",
       "    <tr>\n",
       "      <th>1818</th>\n",
       "      <td>6.0</td>\n",
       "      <td>0.260</td>\n",
       "      <td>0.29</td>\n",
       "      <td>1.0</td>\n",
       "      <td>0.032</td>\n",
       "      <td>27.0</td>\n",
       "      <td>96.0</td>\n",
       "      <td>0.98960</td>\n",
       "      <td>3.38</td>\n",
       "      <td>0.44</td>\n",
       "      <td>12.3</td>\n",
       "      <td>6</td>\n",
       "    </tr>\n",
       "    <tr>\n",
       "      <th>1679</th>\n",
       "      <td>6.4</td>\n",
       "      <td>0.350</td>\n",
       "      <td>0.20</td>\n",
       "      <td>5.7</td>\n",
       "      <td>0.034</td>\n",
       "      <td>18.0</td>\n",
       "      <td>117.0</td>\n",
       "      <td>0.99440</td>\n",
       "      <td>3.33</td>\n",
       "      <td>0.43</td>\n",
       "      <td>10.1</td>\n",
       "      <td>5</td>\n",
       "    </tr>\n",
       "    <tr>\n",
       "      <th>4238</th>\n",
       "      <td>6.4</td>\n",
       "      <td>0.290</td>\n",
       "      <td>0.18</td>\n",
       "      <td>15.0</td>\n",
       "      <td>0.040</td>\n",
       "      <td>21.0</td>\n",
       "      <td>116.0</td>\n",
       "      <td>0.99736</td>\n",
       "      <td>3.14</td>\n",
       "      <td>0.50</td>\n",
       "      <td>9.2</td>\n",
       "      <td>5</td>\n",
       "    </tr>\n",
       "    <tr>\n",
       "      <th>3030</th>\n",
       "      <td>7.1</td>\n",
       "      <td>0.470</td>\n",
       "      <td>0.29</td>\n",
       "      <td>14.8</td>\n",
       "      <td>0.024</td>\n",
       "      <td>22.0</td>\n",
       "      <td>142.0</td>\n",
       "      <td>0.99518</td>\n",
       "      <td>3.12</td>\n",
       "      <td>0.48</td>\n",
       "      <td>12.0</td>\n",
       "      <td>8</td>\n",
       "    </tr>\n",
       "    <tr>\n",
       "      <th>3103</th>\n",
       "      <td>7.0</td>\n",
       "      <td>0.250</td>\n",
       "      <td>0.45</td>\n",
       "      <td>2.3</td>\n",
       "      <td>0.045</td>\n",
       "      <td>40.0</td>\n",
       "      <td>118.0</td>\n",
       "      <td>0.99064</td>\n",
       "      <td>3.16</td>\n",
       "      <td>0.48</td>\n",
       "      <td>11.9</td>\n",
       "      <td>7</td>\n",
       "    </tr>\n",
       "    <tr>\n",
       "      <th>2989</th>\n",
       "      <td>6.2</td>\n",
       "      <td>0.160</td>\n",
       "      <td>0.32</td>\n",
       "      <td>1.1</td>\n",
       "      <td>0.036</td>\n",
       "      <td>74.0</td>\n",
       "      <td>184.0</td>\n",
       "      <td>0.99096</td>\n",
       "      <td>3.22</td>\n",
       "      <td>0.41</td>\n",
       "      <td>11.0</td>\n",
       "      <td>6</td>\n",
       "    </tr>\n",
       "    <tr>\n",
       "      <th>3423</th>\n",
       "      <td>7.1</td>\n",
       "      <td>0.180</td>\n",
       "      <td>0.39</td>\n",
       "      <td>14.5</td>\n",
       "      <td>0.051</td>\n",
       "      <td>48.0</td>\n",
       "      <td>156.0</td>\n",
       "      <td>0.99947</td>\n",
       "      <td>3.35</td>\n",
       "      <td>0.78</td>\n",
       "      <td>9.1</td>\n",
       "      <td>5</td>\n",
       "    </tr>\n",
       "  </tbody>\n",
       "</table>\n",
       "</div>"
      ],
      "text/plain": [
       "      fixed acidity  volatile acidity  citric acid  residual sugar  chlorides  \\\n",
       "852             6.9             0.180         0.36             1.3      0.036   \n",
       "4609            6.0             0.615         0.04             0.8      0.032   \n",
       "1252            5.6             0.245         0.32             1.1      0.047   \n",
       "1818            6.0             0.260         0.29             1.0      0.032   \n",
       "1679            6.4             0.350         0.20             5.7      0.034   \n",
       "4238            6.4             0.290         0.18            15.0      0.040   \n",
       "3030            7.1             0.470         0.29            14.8      0.024   \n",
       "3103            7.0             0.250         0.45             2.3      0.045   \n",
       "2989            6.2             0.160         0.32             1.1      0.036   \n",
       "3423            7.1             0.180         0.39            14.5      0.051   \n",
       "\n",
       "      free sulfur dioxide  total sulfur dioxide  density    pH  sulphates  \\\n",
       "852                  40.0                 117.0  0.99340  3.27       0.95   \n",
       "4609                  8.0                  50.0  0.99036  3.14       0.40   \n",
       "1252                 24.0                 152.0  0.99270  3.12       0.42   \n",
       "1818                 27.0                  96.0  0.98960  3.38       0.44   \n",
       "1679                 18.0                 117.0  0.99440  3.33       0.43   \n",
       "4238                 21.0                 116.0  0.99736  3.14       0.50   \n",
       "3030                 22.0                 142.0  0.99518  3.12       0.48   \n",
       "3103                 40.0                 118.0  0.99064  3.16       0.48   \n",
       "2989                 74.0                 184.0  0.99096  3.22       0.41   \n",
       "3423                 48.0                 156.0  0.99947  3.35       0.78   \n",
       "\n",
       "      alcohol  quality  \n",
       "852       9.5        7  \n",
       "4609     11.0        4  \n",
       "1252      9.3        6  \n",
       "1818     12.3        6  \n",
       "1679     10.1        5  \n",
       "4238      9.2        5  \n",
       "3030     12.0        8  \n",
       "3103     11.9        7  \n",
       "2989     11.0        6  \n",
       "3423      9.1        5  "
      ]
     },
     "execution_count": 4,
     "metadata": {},
     "output_type": "execute_result"
    }
   ],
   "source": [
    "df.sample(10)"
   ]
  },
  {
   "cell_type": "markdown",
   "metadata": {},
   "source": [
    "We want to:\n",
    " * build a **supervised** learning model\n",
    " * which is a **regression** model (predict quantitative feature)\n",
    " * that tries to predict wine `quality` from its physical properties (so that we do not anymore need experts' advice)"
   ]
  },
  {
   "cell_type": "markdown",
   "metadata": {},
   "source": [
    "We will do train test splitting for correct asessment of model performance"
   ]
  },
  {
   "cell_type": "markdown",
   "metadata": {},
   "source": [
    "We will use MSE metric: $$MSE=\\frac{1}{N}\\sum(\\hat{y} - y)^2$$"
   ]
  },
  {
   "cell_type": "code",
   "execution_count": 5,
   "metadata": {},
   "outputs": [],
   "source": [
    "from sklearn.metrics import mean_squared_error"
   ]
  },
  {
   "cell_type": "markdown",
   "metadata": {},
   "source": [
    "We will:\n",
    " * try several models and...\n",
    " * keep the one with the **least** MSE on **test set** (also called test error)\n",
    " * anyways, we will always show training error too"
   ]
  },
  {
   "cell_type": "markdown",
   "metadata": {},
   "source": [
    "## Data exploration"
   ]
  },
  {
   "cell_type": "code",
   "execution_count": 9,
   "metadata": {},
   "outputs": [
    {
     "data": {
      "text/plain": [
       "0"
      ]
     },
     "execution_count": 9,
     "metadata": {},
     "output_type": "execute_result"
    }
   ],
   "source": [
    "df.isna().sum().sum()"
   ]
  },
  {
   "cell_type": "code",
   "execution_count": 13,
   "metadata": {},
   "outputs": [
    {
     "data": {
      "text/plain": [
       "Index(['fixed acidity', 'volatile acidity', 'citric acid', 'residual sugar',\n",
       "       'chlorides', 'free sulfur dioxide', 'total sulfur dioxide', 'density',\n",
       "       'pH', 'sulphates', 'alcohol', 'quality'],\n",
       "      dtype='object')"
      ]
     },
     "execution_count": 13,
     "metadata": {},
     "output_type": "execute_result"
    }
   ],
   "source": [
    "df.columns"
   ]
  },
  {
   "cell_type": "code",
   "execution_count": 14,
   "metadata": {},
   "outputs": [],
   "source": [
    "df.columns = [col.replace(\" \", \"_\") for col in df.columns]"
   ]
  },
  {
   "cell_type": "code",
   "execution_count": 15,
   "metadata": {},
   "outputs": [
    {
     "data": {
      "text/plain": [
       "Index(['fixed_acidity', 'volatile_acidity', 'citric_acid', 'residual_sugar',\n",
       "       'chlorides', 'free_sulfur_dioxide', 'total_sulfur_dioxide', 'density',\n",
       "       'pH', 'sulphates', 'alcohol', 'quality'],\n",
       "      dtype='object')"
      ]
     },
     "execution_count": 15,
     "metadata": {},
     "output_type": "execute_result"
    }
   ],
   "source": [
    "df.columns"
   ]
  },
  {
   "cell_type": "code",
   "execution_count": 11,
   "metadata": {},
   "outputs": [
    {
     "data": {
      "text/plain": [
       "<AxesSubplot:xlabel='quality', ylabel='count'>"
      ]
     },
     "execution_count": 11,
     "metadata": {},
     "output_type": "execute_result"
    },
    {
     "data": {
      "image/png": "[encoded data removed]",
      "text/plain": [
       "<Figure size 432x288 with 1 Axes>"
      ]
     },
     "metadata": {
      "needs_background": "light"
     },
     "output_type": "display_data"
    }
   ],
   "source": [
    "sns.countplot(x=df.quality, palette=\"Blues\")"
   ]
  },
  {
   "cell_type": "markdown",
   "metadata": {},
   "source": [
    "## Train test splitting"
   ]
  },
  {
   "cell_type": "code",
   "execution_count": 19,
   "metadata": {},
   "outputs": [],
   "source": [
    "from sklearn.model_selection import train_test_split"
   ]
  },
  {
   "cell_type": "code",
   "execution_count": 20,
   "metadata": {},
   "outputs": [],
   "source": [
    "target = \"quality\""
   ]
  },
  {
   "cell_type": "code",
   "execution_count": 21,
   "metadata": {},
   "outputs": [],
   "source": [
    "# predictors\n",
    "X = df.drop(target, axis=1)\n",
    "# target\n",
    "y = df[target]"
   ]
  },
  {
   "cell_type": "code",
   "execution_count": 25,
   "metadata": {},
   "outputs": [],
   "source": [
    "X_train, X_test, y_train, y_test = train_test_split(X, y, test_size=0.2, shuffle=True, random_state=666)"
   ]
  },
  {
   "cell_type": "code",
   "execution_count": 27,
   "metadata": {},
   "outputs": [
    {
     "data": {
      "text/plain": [
       "(4898, 11)"
      ]
     },
     "execution_count": 27,
     "metadata": {},
     "output_type": "execute_result"
    }
   ],
   "source": [
    "X.shape"
   ]
  },
  {
   "cell_type": "code",
   "execution_count": 26,
   "metadata": {},
   "outputs": [
    {
     "data": {
      "text/plain": [
       "(3918, 11)"
      ]
     },
     "execution_count": 26,
     "metadata": {},
     "output_type": "execute_result"
    }
   ],
   "source": [
    "X_train.shape"
   ]
  },
  {
   "cell_type": "code",
   "execution_count": 28,
   "metadata": {},
   "outputs": [
    {
     "data": {
      "text/plain": [
       "(980, 11)"
      ]
     },
     "execution_count": 28,
     "metadata": {},
     "output_type": "execute_result"
    }
   ],
   "source": [
    "X_test.shape"
   ]
  },
  {
   "cell_type": "code",
   "execution_count": 29,
   "metadata": {},
   "outputs": [
    {
     "data": {
      "text/plain": [
       "(3918,)"
      ]
     },
     "execution_count": 29,
     "metadata": {},
     "output_type": "execute_result"
    }
   ],
   "source": [
    "y_train.shape"
   ]
  },
  {
   "cell_type": "code",
   "execution_count": 30,
   "metadata": {},
   "outputs": [
    {
     "data": {
      "text/plain": [
       "(980,)"
      ]
     },
     "execution_count": 30,
     "metadata": {},
     "output_type": "execute_result"
    }
   ],
   "source": [
    "y_test.shape"
   ]
  },
  {
   "cell_type": "markdown",
   "metadata": {},
   "source": [
    "## Models"
   ]
  },
  {
   "cell_type": "markdown",
   "metadata": {},
   "source": [
    "### Baseline model"
   ]
  },
  {
   "cell_type": "markdown",
   "metadata": {},
   "source": [
    "The baseline model predicts the mean quality for every wine"
   ]
  },
  {
   "cell_type": "code",
   "execution_count": 32,
   "metadata": {},
   "outputs": [
    {
     "data": {
      "text/plain": [
       "<AxesSubplot:xlabel='quality', ylabel='count'>"
      ]
     },
     "execution_count": 32,
     "metadata": {},
     "output_type": "execute_result"
    },
    {
     "data": {
      "image/png": "[encoded data removed]",
      "text/plain": [
       "<Figure size 432x288 with 1 Axes>"
      ]
     },
     "metadata": {
      "needs_background": "light"
     },
     "output_type": "display_data"
    }
   ],
   "source": [
    "sns.countplot(x=df.quality)"
   ]
  },
  {
   "cell_type": "code",
   "execution_count": 33,
   "metadata": {},
   "outputs": [],
   "source": [
    "baseline = y_train.mean()"
   ]
  },
  {
   "cell_type": "code",
   "execution_count": 34,
   "metadata": {},
   "outputs": [
    {
     "data": {
      "text/plain": [
       "5.8894844308320575"
      ]
     },
     "execution_count": 34,
     "metadata": {},
     "output_type": "execute_result"
    }
   ],
   "source": [
    "baseline"
   ]
  },
  {
   "cell_type": "markdown",
   "metadata": {},
   "source": [
    "MSE can be manually computed"
   ]
  },
  {
   "cell_type": "markdown",
   "metadata": {},
   "source": [
    "Train error"
   ]
  },
  {
   "cell_type": "code",
   "execution_count": 36,
   "metadata": {},
   "outputs": [
    {
     "data": {
      "text/plain": [
       "0.7782406223967026"
      ]
     },
     "execution_count": 36,
     "metadata": {},
     "output_type": "execute_result"
    }
   ],
   "source": [
    "((y_train - baseline) ** 2).mean()"
   ]
  },
  {
   "cell_type": "markdown",
   "metadata": {},
   "source": [
    "Test error"
   ]
  },
  {
   "cell_type": "code",
   "execution_count": 37,
   "metadata": {},
   "outputs": [
    {
     "data": {
      "text/plain": [
       "0.8086727340637989"
      ]
     },
     "execution_count": 37,
     "metadata": {},
     "output_type": "execute_result"
    }
   ],
   "source": [
    "((y_test - baseline) ** 2).mean()"
   ]
  },
  {
   "cell_type": "markdown",
   "metadata": {},
   "source": [
    "### Simple tree (depth=1)"
   ]
  },
  {
   "cell_type": "markdown",
   "metadata": {},
   "source": [
    "Lets first fit a Tree, then interpret it"
   ]
  },
  {
   "cell_type": "code",
   "execution_count": 40,
   "metadata": {},
   "outputs": [],
   "source": [
    "from sklearn.tree import DecisionTreeRegressor"
   ]
  },
  {
   "cell_type": "code",
   "execution_count": null,
   "metadata": {},
   "outputs": [],
   "source": [
    "model = LogisticRegression()"
   ]
  },
  {
   "cell_type": "code",
   "execution_count": 41,
   "metadata": {},
   "outputs": [],
   "source": [
    "model = DecisionTreeRegressor(max_depth=1)"
   ]
  },
  {
   "cell_type": "code",
   "execution_count": 42,
   "metadata": {},
   "outputs": [
    {
     "data": {
      "text/plain": [
       "DecisionTreeRegressor(max_depth=1)"
      ]
     },
     "execution_count": 42,
     "metadata": {},
     "output_type": "execute_result"
    }
   ],
   "source": [
    "model.fit(X_train, y_train)"
   ]
  },
  {
   "cell_type": "markdown",
   "metadata": {},
   "source": [
    "Lets see how this model predicts the first 5 wines"
   ]
  },
  {
   "cell_type": "code",
   "execution_count": 53,
   "metadata": {},
   "outputs": [
    {
     "data": {
      "text/plain": [
       "4585    6\n",
       "4025    6\n",
       "3185    6\n",
       "3304    7\n",
       "506     5\n",
       "Name: quality, dtype: int64"
      ]
     },
     "execution_count": 53,
     "metadata": {},
     "output_type": "execute_result"
    }
   ],
   "source": [
    "# real values\n",
    "y_train[:5]"
   ]
  },
  {
   "cell_type": "code",
   "execution_count": 55,
   "metadata": {},
   "outputs": [
    {
     "data": {
      "text/plain": [
       "array([6.35, 6.35, 6.35, 6.35, 5.61])"
      ]
     },
     "execution_count": 55,
     "metadata": {},
     "output_type": "execute_result"
    }
   ],
   "source": [
    "# predicted values\n",
    "model.predict(X_train[:5].values).round(2)"
   ]
  },
  {
   "cell_type": "markdown",
   "metadata": {},
   "source": [
    "Train error"
   ]
  },
  {
   "cell_type": "code",
   "execution_count": 56,
   "metadata": {},
   "outputs": [
    {
     "data": {
      "text/plain": [
       "0.6511398839609709"
      ]
     },
     "execution_count": 56,
     "metadata": {},
     "output_type": "execute_result"
    }
   ],
   "source": [
    "mean_squared_error(\n",
    "    y_true=y_train,\n",
    "    y_pred=model.predict(X_train)\n",
    ")"
   ]
  },
  {
   "cell_type": "markdown",
   "metadata": {},
   "source": [
    "Test error"
   ]
  },
  {
   "cell_type": "code",
   "execution_count": 57,
   "metadata": {},
   "outputs": [
    {
     "data": {
      "text/plain": [
       "0.685559553685101"
      ]
     },
     "execution_count": 57,
     "metadata": {},
     "output_type": "execute_result"
    }
   ],
   "source": [
    "mean_squared_error(\n",
    "    y_true=y_test,\n",
    "    y_pred=model.predict(X_test)\n",
    ")"
   ]
  },
  {
   "cell_type": "code",
   "execution_count": 59,
   "metadata": {},
   "outputs": [],
   "source": [
    "from sklearn.tree import plot_tree"
   ]
  },
  {
   "cell_type": "code",
   "execution_count": 61,
   "metadata": {},
   "outputs": [
    {
     "data": {
      "text/html": [
       "<div>\n",
       "<style scoped>\n",
       "    .dataframe tbody tr th:only-of-type {\n",
       "        vertical-align: middle;\n",
       "    }\n",
       "\n",
       "    .dataframe tbody tr th {\n",
       "        vertical-align: top;\n",
       "    }\n",
       "\n",
       "    .dataframe thead th {\n",
       "        text-align: right;\n",
       "    }\n",
       "</style>\n",
       "<table border=\"1\" class=\"dataframe\">\n",
       "  <thead>\n",
       "    <tr style=\"text-align: right;\">\n",
       "      <th></th>\n",
       "      <th>fixed_acidity</th>\n",
       "      <th>volatile_acidity</th>\n",
       "      <th>citric_acid</th>\n",
       "      <th>residual_sugar</th>\n",
       "      <th>chlorides</th>\n",
       "      <th>free_sulfur_dioxide</th>\n",
       "      <th>total_sulfur_dioxide</th>\n",
       "      <th>density</th>\n",
       "      <th>pH</th>\n",
       "      <th>sulphates</th>\n",
       "      <th>alcohol</th>\n",
       "      <th>quality</th>\n",
       "    </tr>\n",
       "  </thead>\n",
       "  <tbody>\n",
       "    <tr>\n",
       "      <th>0</th>\n",
       "      <td>7.0</td>\n",
       "      <td>0.27</td>\n",
       "      <td>0.36</td>\n",
       "      <td>20.7</td>\n",
       "      <td>0.045</td>\n",
       "      <td>45.0</td>\n",
       "      <td>170.0</td>\n",
       "      <td>1.0010</td>\n",
       "      <td>3.00</td>\n",
       "      <td>0.45</td>\n",
       "      <td>8.8</td>\n",
       "      <td>6</td>\n",
       "    </tr>\n",
       "    <tr>\n",
       "      <th>1</th>\n",
       "      <td>6.3</td>\n",
       "      <td>0.30</td>\n",
       "      <td>0.34</td>\n",
       "      <td>1.6</td>\n",
       "      <td>0.049</td>\n",
       "      <td>14.0</td>\n",
       "      <td>132.0</td>\n",
       "      <td>0.9940</td>\n",
       "      <td>3.30</td>\n",
       "      <td>0.49</td>\n",
       "      <td>9.5</td>\n",
       "      <td>6</td>\n",
       "    </tr>\n",
       "    <tr>\n",
       "      <th>2</th>\n",
       "      <td>8.1</td>\n",
       "      <td>0.28</td>\n",
       "      <td>0.40</td>\n",
       "      <td>6.9</td>\n",
       "      <td>0.050</td>\n",
       "      <td>30.0</td>\n",
       "      <td>97.0</td>\n",
       "      <td>0.9951</td>\n",
       "      <td>3.26</td>\n",
       "      <td>0.44</td>\n",
       "      <td>10.1</td>\n",
       "      <td>6</td>\n",
       "    </tr>\n",
       "    <tr>\n",
       "      <th>3</th>\n",
       "      <td>7.2</td>\n",
       "      <td>0.23</td>\n",
       "      <td>0.32</td>\n",
       "      <td>8.5</td>\n",
       "      <td>0.058</td>\n",
       "      <td>47.0</td>\n",
       "      <td>186.0</td>\n",
       "      <td>0.9956</td>\n",
       "      <td>3.19</td>\n",
       "      <td>0.40</td>\n",
       "      <td>9.9</td>\n",
       "      <td>6</td>\n",
       "    </tr>\n",
       "    <tr>\n",
       "      <th>4</th>\n",
       "      <td>7.2</td>\n",
       "      <td>0.23</td>\n",
       "      <td>0.32</td>\n",
       "      <td>8.5</td>\n",
       "      <td>0.058</td>\n",
       "      <td>47.0</td>\n",
       "      <td>186.0</td>\n",
       "      <td>0.9956</td>\n",
       "      <td>3.19</td>\n",
       "      <td>0.40</td>\n",
       "      <td>9.9</td>\n",
       "      <td>6</td>\n",
       "    </tr>\n",
       "  </tbody>\n",
       "</table>\n",
       "</div>"
      ],
      "text/plain": [
       "   fixed_acidity  volatile_acidity  citric_acid  residual_sugar  chlorides  \\\n",
       "0            7.0              0.27         0.36            20.7      0.045   \n",
       "1            6.3              0.30         0.34             1.6      0.049   \n",
       "2            8.1              0.28         0.40             6.9      0.050   \n",
       "3            7.2              0.23         0.32             8.5      0.058   \n",
       "4            7.2              0.23         0.32             8.5      0.058   \n",
       "\n",
       "   free_sulfur_dioxide  total_sulfur_dioxide  density    pH  sulphates  \\\n",
       "0                 45.0                 170.0   1.0010  3.00       0.45   \n",
       "1                 14.0                 132.0   0.9940  3.30       0.49   \n",
       "2                 30.0                  97.0   0.9951  3.26       0.44   \n",
       "3                 47.0                 186.0   0.9956  3.19       0.40   \n",
       "4                 47.0                 186.0   0.9956  3.19       0.40   \n",
       "\n",
       "   alcohol  quality  \n",
       "0      8.8        6  \n",
       "1      9.5        6  \n",
       "2     10.1        6  \n",
       "3      9.9        6  \n",
       "4      9.9        6  "
      ]
     },
     "execution_count": 61,
     "metadata": {},
     "output_type": "execute_result"
    }
   ],
   "source": [
    "df.head()"
   ]
  },
  {
   "cell_type": "code",
   "execution_count": 60,
   "metadata": {},
   "outputs": [
    {
     "data": {
      "image/png": "[encoded data removed]",
      "text/plain": [
       "<Figure size 720x432 with 1 Axes>"
      ]
     },
     "metadata": {
      "needs_background": "light"
     },
     "output_type": "display_data"
    }
   ],
   "source": [
    "fig = plt.figure(figsize=(10, 6))\n",
    "plot_tree(model, feature_names=df.columns[:-1], filled=True);"
   ]
  },
  {
   "cell_type": "code",
   "execution_count": 64,
   "metadata": {},
   "outputs": [
    {
     "data": {
      "text/html": [
       "<div>\n",
       "<style scoped>\n",
       "    .dataframe tbody tr th:only-of-type {\n",
       "        vertical-align: middle;\n",
       "    }\n",
       "\n",
       "    .dataframe tbody tr th {\n",
       "        vertical-align: top;\n",
       "    }\n",
       "\n",
       "    .dataframe thead th {\n",
       "        text-align: right;\n",
       "    }\n",
       "</style>\n",
       "<table border=\"1\" class=\"dataframe\">\n",
       "  <thead>\n",
       "    <tr style=\"text-align: right;\">\n",
       "      <th></th>\n",
       "      <th>fixed_acidity</th>\n",
       "      <th>volatile_acidity</th>\n",
       "      <th>citric_acid</th>\n",
       "      <th>residual_sugar</th>\n",
       "      <th>chlorides</th>\n",
       "      <th>free_sulfur_dioxide</th>\n",
       "      <th>total_sulfur_dioxide</th>\n",
       "      <th>density</th>\n",
       "      <th>pH</th>\n",
       "      <th>sulphates</th>\n",
       "      <th>alcohol</th>\n",
       "    </tr>\n",
       "  </thead>\n",
       "  <tbody>\n",
       "    <tr>\n",
       "      <th>4585</th>\n",
       "      <td>5.0</td>\n",
       "      <td>0.33</td>\n",
       "      <td>0.23</td>\n",
       "      <td>11.8</td>\n",
       "      <td>0.030</td>\n",
       "      <td>23.0</td>\n",
       "      <td>158.0</td>\n",
       "      <td>0.99322</td>\n",
       "      <td>3.41</td>\n",
       "      <td>0.64</td>\n",
       "      <td>11.8</td>\n",
       "    </tr>\n",
       "    <tr>\n",
       "      <th>4025</th>\n",
       "      <td>6.2</td>\n",
       "      <td>0.32</td>\n",
       "      <td>0.45</td>\n",
       "      <td>2.9</td>\n",
       "      <td>0.029</td>\n",
       "      <td>37.0</td>\n",
       "      <td>94.0</td>\n",
       "      <td>0.98998</td>\n",
       "      <td>3.25</td>\n",
       "      <td>0.60</td>\n",
       "      <td>12.4</td>\n",
       "    </tr>\n",
       "    <tr>\n",
       "      <th>3185</th>\n",
       "      <td>6.5</td>\n",
       "      <td>0.21</td>\n",
       "      <td>0.40</td>\n",
       "      <td>7.3</td>\n",
       "      <td>0.041</td>\n",
       "      <td>49.0</td>\n",
       "      <td>115.0</td>\n",
       "      <td>0.99268</td>\n",
       "      <td>3.21</td>\n",
       "      <td>0.43</td>\n",
       "      <td>11.0</td>\n",
       "    </tr>\n",
       "    <tr>\n",
       "      <th>3304</th>\n",
       "      <td>6.0</td>\n",
       "      <td>0.32</td>\n",
       "      <td>0.30</td>\n",
       "      <td>1.9</td>\n",
       "      <td>0.033</td>\n",
       "      <td>41.0</td>\n",
       "      <td>142.0</td>\n",
       "      <td>0.98912</td>\n",
       "      <td>3.29</td>\n",
       "      <td>0.42</td>\n",
       "      <td>12.8</td>\n",
       "    </tr>\n",
       "    <tr>\n",
       "      <th>506</th>\n",
       "      <td>7.3</td>\n",
       "      <td>0.51</td>\n",
       "      <td>0.26</td>\n",
       "      <td>3.3</td>\n",
       "      <td>0.090</td>\n",
       "      <td>7.0</td>\n",
       "      <td>135.0</td>\n",
       "      <td>0.99440</td>\n",
       "      <td>3.01</td>\n",
       "      <td>0.52</td>\n",
       "      <td>8.8</td>\n",
       "    </tr>\n",
       "  </tbody>\n",
       "</table>\n",
       "</div>"
      ],
      "text/plain": [
       "      fixed_acidity  volatile_acidity  citric_acid  residual_sugar  chlorides  \\\n",
       "4585            5.0              0.33         0.23            11.8      0.030   \n",
       "4025            6.2              0.32         0.45             2.9      0.029   \n",
       "3185            6.5              0.21         0.40             7.3      0.041   \n",
       "3304            6.0              0.32         0.30             1.9      0.033   \n",
       "506             7.3              0.51         0.26             3.3      0.090   \n",
       "\n",
       "      free_sulfur_dioxide  total_sulfur_dioxide  density    pH  sulphates  \\\n",
       "4585                 23.0                 158.0  0.99322  3.41       0.64   \n",
       "4025                 37.0                  94.0  0.98998  3.25       0.60   \n",
       "3185                 49.0                 115.0  0.99268  3.21       0.43   \n",
       "3304                 41.0                 142.0  0.98912  3.29       0.42   \n",
       "506                   7.0                 135.0  0.99440  3.01       0.52   \n",
       "\n",
       "      alcohol  \n",
       "4585     11.8  \n",
       "4025     12.4  \n",
       "3185     11.0  \n",
       "3304     12.8  \n",
       "506       8.8  "
      ]
     },
     "execution_count": 64,
     "metadata": {},
     "output_type": "execute_result"
    }
   ],
   "source": [
    "X_train[:5]"
   ]
  },
  {
   "cell_type": "code",
   "execution_count": 65,
   "metadata": {},
   "outputs": [
    {
     "data": {
      "text/plain": [
       "array([6.35, 6.35, 6.35, 6.35, 5.61])"
      ]
     },
     "execution_count": 65,
     "metadata": {},
     "output_type": "execute_result"
    }
   ],
   "source": [
    "model.predict(X_train[:5].values).round(2)"
   ]
  },
  {
   "cell_type": "markdown",
   "metadata": {},
   "source": [
    "Some important questions for deep understanding:\n",
    " 1. while training, why did the DecisionTree choose `alcohol` and $10.85$ ?"
   ]
  },
  {
   "cell_type": "markdown",
   "metadata": {},
   "source": [
    "Imagine we chose `residual_sugar` and value 5"
   ]
  },
  {
   "cell_type": "code",
   "execution_count": 81,
   "metadata": {},
   "outputs": [],
   "source": [
    "group1 = X_train[X_train.residual_sugar <= 5].copy()\n",
    "group2 = X_train[X_train.residual_sugar > 5].copy()"
   ]
  },
  {
   "cell_type": "code",
   "execution_count": 82,
   "metadata": {},
   "outputs": [
    {
     "data": {
      "text/plain": [
       "(1955, 11)"
      ]
     },
     "execution_count": 82,
     "metadata": {},
     "output_type": "execute_result"
    }
   ],
   "source": [
    "group1.shape"
   ]
  },
  {
   "cell_type": "code",
   "execution_count": 83,
   "metadata": {},
   "outputs": [
    {
     "data": {
      "text/plain": [
       "(1963, 11)"
      ]
     },
     "execution_count": 83,
     "metadata": {},
     "output_type": "execute_result"
    }
   ],
   "source": [
    "group2.shape"
   ]
  },
  {
   "cell_type": "code",
   "execution_count": 86,
   "metadata": {},
   "outputs": [],
   "source": [
    "group1_mean = y_train[group1.index].mean()"
   ]
  },
  {
   "cell_type": "code",
   "execution_count": 87,
   "metadata": {},
   "outputs": [],
   "source": [
    "group2_mean = y_train[group2.index].mean()"
   ]
  },
  {
   "cell_type": "code",
   "execution_count": 88,
   "metadata": {},
   "outputs": [
    {
     "data": {
      "text/plain": [
       "5.98005115089514"
      ]
     },
     "execution_count": 88,
     "metadata": {},
     "output_type": "execute_result"
    }
   ],
   "source": [
    "group1_mean"
   ]
  },
  {
   "cell_type": "code",
   "execution_count": 89,
   "metadata": {},
   "outputs": [
    {
     "data": {
      "text/plain": [
       "5.799286805909323"
      ]
     },
     "execution_count": 89,
     "metadata": {},
     "output_type": "execute_result"
    }
   ],
   "source": [
    "group2_mean"
   ]
  },
  {
   "cell_type": "code",
   "execution_count": 93,
   "metadata": {},
   "outputs": [],
   "source": [
    "mse = (\n",
    "    ((y_train[group1.index] - group1_mean) ** 2).sum() +\n",
    "    ((y_train[group2.index] - group2_mean) ** 2).sum()\n",
    ") / X_train.shape[0]"
   ]
  },
  {
   "cell_type": "code",
   "execution_count": 94,
   "metadata": {},
   "outputs": [
    {
     "data": {
      "text/plain": [
       "0.7700717193499703"
      ]
     },
     "execution_count": 94,
     "metadata": {},
     "output_type": "execute_result"
    }
   ],
   "source": [
    "mse"
   ]
  },
  {
   "cell_type": "markdown",
   "metadata": {},
   "source": [
    "Shitty improvement over baseline model, and much worse than alcohol 10.85, optimal feature-threshold pair"
   ]
  },
  {
   "cell_type": "markdown",
   "metadata": {},
   "source": [
    "2. what is the meaning of `mse`: the mean squared error in the bucket: the one you would get if every wine in that bucket was given the mean of the bucket. This is, a baseline model in the bucket.\n",
    "3. what is the meaning of `value`: the mean quality of wines in that bucket. The value that will be predicted for every new wine ending in that tree leaf"
   ]
  },
  {
   "cell_type": "markdown",
   "metadata": {},
   "source": [
    "4. while testing (predicting a new instance), how does the tree operate? It goes through a unique path. When this path ends, the value in that leaf is the prediction"
   ]
  },
  {
   "cell_type": "markdown",
   "metadata": {},
   "source": [
    "### Bigger tree (depth=3)"
   ]
  },
  {
   "cell_type": "code",
   "execution_count": 95,
   "metadata": {},
   "outputs": [],
   "source": [
    "model = DecisionTreeRegressor(max_depth=3)"
   ]
  },
  {
   "cell_type": "code",
   "execution_count": 96,
   "metadata": {},
   "outputs": [
    {
     "name": "stdout",
     "output_type": "stream",
     "text": [
      "CPU times: user 13.8 ms, sys: 142 µs, total: 14 ms\n",
      "Wall time: 12.4 ms\n"
     ]
    },
    {
     "data": {
      "text/plain": [
       "DecisionTreeRegressor(max_depth=3)"
      ]
     },
     "execution_count": 96,
     "metadata": {},
     "output_type": "execute_result"
    }
   ],
   "source": [
    "%%time\n",
    "model.fit(X_train, y_train)"
   ]
  },
  {
   "cell_type": "code",
   "execution_count": 72,
   "metadata": {},
   "outputs": [
    {
     "data": {
      "text/plain": [
       "4585    6\n",
       "4025    6\n",
       "3185    6\n",
       "3304    7\n",
       "506     5\n",
       "Name: quality, dtype: int64"
      ]
     },
     "execution_count": 72,
     "metadata": {},
     "output_type": "execute_result"
    }
   ],
   "source": [
    "# real values\n",
    "y_train[:5]"
   ]
  },
  {
   "cell_type": "code",
   "execution_count": 75,
   "metadata": {},
   "outputs": [
    {
     "data": {
      "text/plain": [
       "array([6.61, 6.61, 6.21, 6.61, 5.03])"
      ]
     },
     "execution_count": 75,
     "metadata": {},
     "output_type": "execute_result"
    }
   ],
   "source": [
    "# predicted values\n",
    "model.predict(X_train[:5].values).round(2)"
   ]
  },
  {
   "cell_type": "markdown",
   "metadata": {},
   "source": [
    "Train error"
   ]
  },
  {
   "cell_type": "code",
   "execution_count": 76,
   "metadata": {},
   "outputs": [
    {
     "data": {
      "text/plain": [
       "0.5598058565365571"
      ]
     },
     "execution_count": 76,
     "metadata": {},
     "output_type": "execute_result"
    }
   ],
   "source": [
    "mean_squared_error(\n",
    "    y_true=y_train,\n",
    "    y_pred=model.predict(X_train)\n",
    ")"
   ]
  },
  {
   "cell_type": "markdown",
   "metadata": {},
   "source": [
    "Test error"
   ]
  },
  {
   "cell_type": "code",
   "execution_count": 77,
   "metadata": {},
   "outputs": [
    {
     "data": {
      "text/plain": [
       "0.5831944046394488"
      ]
     },
     "execution_count": 77,
     "metadata": {},
     "output_type": "execute_result"
    }
   ],
   "source": [
    "mean_squared_error(\n",
    "    y_true=y_test,\n",
    "    y_pred=model.predict(X_test)\n",
    ")"
   ]
  },
  {
   "cell_type": "code",
   "execution_count": 78,
   "metadata": {},
   "outputs": [
    {
     "data": {
      "image/png": "[encoded data removed]",
      "text/plain": [
       "<Figure size 1800x1440 with 1 Axes>"
      ]
     },
     "metadata": {
      "needs_background": "light"
     },
     "output_type": "display_data"
    }
   ],
   "source": [
    "fig = plt.figure(figsize=(25,20))\n",
    "plot_tree(model, feature_names=df.columns[:-1], filled=True);"
   ]
  },
  {
   "cell_type": "markdown",
   "metadata": {},
   "source": [
    "### Huge tree (depth=20)"
   ]
  },
  {
   "cell_type": "code",
   "execution_count": 109,
   "metadata": {},
   "outputs": [],
   "source": [
    "model = DecisionTreeRegressor(max_depth=20)"
   ]
  },
  {
   "cell_type": "code",
   "execution_count": 110,
   "metadata": {},
   "outputs": [
    {
     "data": {
      "text/plain": [
       "DecisionTreeRegressor(max_depth=20)"
      ]
     },
     "execution_count": 110,
     "metadata": {},
     "output_type": "execute_result"
    }
   ],
   "source": [
    "model.fit(X_train, y_train)"
   ]
  },
  {
   "cell_type": "markdown",
   "metadata": {},
   "source": [
    "Train error"
   ]
  },
  {
   "cell_type": "code",
   "execution_count": 111,
   "metadata": {},
   "outputs": [
    {
     "data": {
      "text/plain": [
       "0.005237513698750156"
      ]
     },
     "execution_count": 111,
     "metadata": {},
     "output_type": "execute_result"
    }
   ],
   "source": [
    "mean_squared_error(\n",
    "    y_true=y_train,\n",
    "    y_pred=model.predict(X_train)\n",
    ")"
   ]
  },
  {
   "cell_type": "markdown",
   "metadata": {},
   "source": [
    "Test error"
   ]
  },
  {
   "cell_type": "code",
   "execution_count": 112,
   "metadata": {},
   "outputs": [
    {
     "data": {
      "text/plain": [
       "0.6592314619005818"
      ]
     },
     "execution_count": 112,
     "metadata": {},
     "output_type": "execute_result"
    }
   ],
   "source": [
    "mean_squared_error(\n",
    "    y_true=y_test,\n",
    "    y_pred=model.predict(X_test)\n",
    ")"
   ]
  },
  {
   "cell_type": "markdown",
   "metadata": {},
   "source": [
    "**WHAT HAPPENED??**"
   ]
  },
  {
   "cell_type": "code",
   "execution_count": null,
   "metadata": {},
   "outputs": [],
   "source": [
    "fig = plt.figure(figsize=(25,20))\n",
    "plot_tree(model, feature_names=df.columns[:-1], filled=True);"
   ]
  },
  {
   "cell_type": "markdown",
   "metadata": {},
   "source": [
    "### Overfitting"
   ]
  },
  {
   "cell_type": "markdown",
   "metadata": {},
   "source": [
    "Lets see how training and test error changes with `max_depth`"
   ]
  },
  {
   "cell_type": "code",
   "execution_count": 124,
   "metadata": {},
   "outputs": [],
   "source": [
    "results = []\n",
    "\n",
    "for depth in range(1, 20):\n",
    "    model = DecisionTreeRegressor(max_depth=depth)\n",
    "    model.fit(X_train, y_train)\n",
    "    \n",
    "    result = {\n",
    "        \"depth\": depth,\n",
    "        \"train_error\": mean_squared_error(y_train, model.predict(X_train)),\n",
    "        \"test_error\": mean_squared_error(y_test, model.predict(X_test))\n",
    "    }\n",
    "    \n",
    "    results.append(result)"
   ]
  },
  {
   "cell_type": "code",
   "execution_count": 125,
   "metadata": {},
   "outputs": [],
   "source": [
    "results_df = pd.DataFrame(results)"
   ]
  },
  {
   "cell_type": "code",
   "execution_count": 126,
   "metadata": {},
   "outputs": [
    {
     "data": {
      "text/html": [
       "<div>\n",
       "<style scoped>\n",
       "    .dataframe tbody tr th:only-of-type {\n",
       "        vertical-align: middle;\n",
       "    }\n",
       "\n",
       "    .dataframe tbody tr th {\n",
       "        vertical-align: top;\n",
       "    }\n",
       "\n",
       "    .dataframe thead th {\n",
       "        text-align: right;\n",
       "    }\n",
       "</style>\n",
       "<table border=\"1\" class=\"dataframe\">\n",
       "  <thead>\n",
       "    <tr style=\"text-align: right;\">\n",
       "      <th></th>\n",
       "      <th>depth</th>\n",
       "      <th>train_error</th>\n",
       "      <th>test_error</th>\n",
       "    </tr>\n",
       "  </thead>\n",
       "  <tbody>\n",
       "    <tr>\n",
       "      <th>0</th>\n",
       "      <td>1</td>\n",
       "      <td>0.651140</td>\n",
       "      <td>0.685560</td>\n",
       "    </tr>\n",
       "    <tr>\n",
       "      <th>1</th>\n",
       "      <td>2</td>\n",
       "      <td>0.590774</td>\n",
       "      <td>0.615895</td>\n",
       "    </tr>\n",
       "    <tr>\n",
       "      <th>2</th>\n",
       "      <td>3</td>\n",
       "      <td>0.559806</td>\n",
       "      <td>0.583194</td>\n",
       "    </tr>\n",
       "    <tr>\n",
       "      <th>3</th>\n",
       "      <td>4</td>\n",
       "      <td>0.526841</td>\n",
       "      <td>0.552649</td>\n",
       "    </tr>\n",
       "    <tr>\n",
       "      <th>4</th>\n",
       "      <td>5</td>\n",
       "      <td>0.491170</td>\n",
       "      <td>0.550328</td>\n",
       "    </tr>\n",
       "    <tr>\n",
       "      <th>5</th>\n",
       "      <td>6</td>\n",
       "      <td>0.452954</td>\n",
       "      <td>0.562307</td>\n",
       "    </tr>\n",
       "    <tr>\n",
       "      <th>6</th>\n",
       "      <td>7</td>\n",
       "      <td>0.413068</td>\n",
       "      <td>0.562487</td>\n",
       "    </tr>\n",
       "    <tr>\n",
       "      <th>7</th>\n",
       "      <td>8</td>\n",
       "      <td>0.373803</td>\n",
       "      <td>0.597553</td>\n",
       "    </tr>\n",
       "    <tr>\n",
       "      <th>8</th>\n",
       "      <td>9</td>\n",
       "      <td>0.328740</td>\n",
       "      <td>0.596246</td>\n",
       "    </tr>\n",
       "    <tr>\n",
       "      <th>9</th>\n",
       "      <td>10</td>\n",
       "      <td>0.277483</td>\n",
       "      <td>0.613012</td>\n",
       "    </tr>\n",
       "    <tr>\n",
       "      <th>10</th>\n",
       "      <td>11</td>\n",
       "      <td>0.225828</td>\n",
       "      <td>0.643180</td>\n",
       "    </tr>\n",
       "    <tr>\n",
       "      <th>11</th>\n",
       "      <td>12</td>\n",
       "      <td>0.175395</td>\n",
       "      <td>0.659910</td>\n",
       "    </tr>\n",
       "    <tr>\n",
       "      <th>12</th>\n",
       "      <td>13</td>\n",
       "      <td>0.130703</td>\n",
       "      <td>0.637190</td>\n",
       "    </tr>\n",
       "    <tr>\n",
       "      <th>13</th>\n",
       "      <td>14</td>\n",
       "      <td>0.095109</td>\n",
       "      <td>0.701232</td>\n",
       "    </tr>\n",
       "    <tr>\n",
       "      <th>14</th>\n",
       "      <td>15</td>\n",
       "      <td>0.066907</td>\n",
       "      <td>0.678800</td>\n",
       "    </tr>\n",
       "    <tr>\n",
       "      <th>15</th>\n",
       "      <td>16</td>\n",
       "      <td>0.043030</td>\n",
       "      <td>0.683448</td>\n",
       "    </tr>\n",
       "    <tr>\n",
       "      <th>16</th>\n",
       "      <td>17</td>\n",
       "      <td>0.028148</td>\n",
       "      <td>0.726228</td>\n",
       "    </tr>\n",
       "    <tr>\n",
       "      <th>17</th>\n",
       "      <td>18</td>\n",
       "      <td>0.015808</td>\n",
       "      <td>0.746149</td>\n",
       "    </tr>\n",
       "    <tr>\n",
       "      <th>18</th>\n",
       "      <td>19</td>\n",
       "      <td>0.008939</td>\n",
       "      <td>0.685791</td>\n",
       "    </tr>\n",
       "  </tbody>\n",
       "</table>\n",
       "</div>"
      ],
      "text/plain": [
       "    depth  train_error  test_error\n",
       "0       1     0.651140    0.685560\n",
       "1       2     0.590774    0.615895\n",
       "2       3     0.559806    0.583194\n",
       "3       4     0.526841    0.552649\n",
       "4       5     0.491170    0.550328\n",
       "5       6     0.452954    0.562307\n",
       "6       7     0.413068    0.562487\n",
       "7       8     0.373803    0.597553\n",
       "8       9     0.328740    0.596246\n",
       "9      10     0.277483    0.613012\n",
       "10     11     0.225828    0.643180\n",
       "11     12     0.175395    0.659910\n",
       "12     13     0.130703    0.637190\n",
       "13     14     0.095109    0.701232\n",
       "14     15     0.066907    0.678800\n",
       "15     16     0.043030    0.683448\n",
       "16     17     0.028148    0.726228\n",
       "17     18     0.015808    0.746149\n",
       "18     19     0.008939    0.685791"
      ]
     },
     "execution_count": 126,
     "metadata": {},
     "output_type": "execute_result"
    }
   ],
   "source": [
    "results_df"
   ]
  },
  {
   "cell_type": "code",
   "execution_count": 127,
   "metadata": {},
   "outputs": [
    {
     "data": {
      "text/plain": [
       "<matplotlib.legend.Legend at 0x7f8b5ba72400>"
      ]
     },
     "execution_count": 127,
     "metadata": {},
     "output_type": "execute_result"
    },
    {
     "data": {
      "image/png": "[encoded data removed]",
      "text/plain": [
       "<Figure size 720x720 with 1 Axes>"
      ]
     },
     "metadata": {
      "needs_background": "light"
     },
     "output_type": "display_data"
    }
   ],
   "source": [
    "fig = plt.figure(figsize=(10, 10))\n",
    "plt.plot(results_df.depth, results_df.train_error, label=\"train error\")\n",
    "plt.plot(results_df.depth, results_df.test_error, label=\"test error\")\n",
    "plt.legend()"
   ]
  },
  {
   "cell_type": "markdown",
   "metadata": {},
   "source": [
    "We can see how, when `max_depth` increases above ~6:\n",
    " * training error decresases (more precise on training samples)\n",
    " * test error increases (model is memorizing training set and not generalizing very well)"
   ]
  },
  {
   "cell_type": "markdown",
   "metadata": {},
   "source": [
    "This is the famous overfitting! And this is why **test error** is the one you should look at!"
   ]
  },
  {
   "cell_type": "markdown",
   "metadata": {},
   "source": [
    "### Other hyperparameters"
   ]
  },
  {
   "cell_type": "markdown",
   "metadata": {},
   "source": [
    "As well as `max_depth`, there are other **hyperparameters** that let us build different trees' architectures of the family DecisionTreeRegressor:\n",
    " * `min_samples_split`: the minimum number of samples required to split an internal node  \n",
    " * `max_features`: the number of features to consider when looking for the best split  "
   ]
  },
  {
   "cell_type": "code",
   "execution_count": 129,
   "metadata": {},
   "outputs": [],
   "source": [
    "model = DecisionTreeRegressor(max_depth=5, min_samples_split=100, max_features=8)"
   ]
  },
  {
   "cell_type": "code",
   "execution_count": 130,
   "metadata": {},
   "outputs": [
    {
     "data": {
      "text/plain": [
       "DecisionTreeRegressor(max_depth=5, max_features=8, min_samples_split=100)"
      ]
     },
     "execution_count": 130,
     "metadata": {},
     "output_type": "execute_result"
    }
   ],
   "source": [
    "model.fit(X_train, y_train)"
   ]
  },
  {
   "cell_type": "code",
   "execution_count": 131,
   "metadata": {},
   "outputs": [
    {
     "name": "stdout",
     "output_type": "stream",
     "text": [
      "train error: 0.514174699707454\n",
      "test error: 0.5570438713446861\n"
     ]
    }
   ],
   "source": [
    "print(f\"train error: {mean_squared_error(y_train, model.predict(X_train))}\")\n",
    "print(f\"test error: {mean_squared_error(y_test, model.predict(X_test))}\")"
   ]
  },
  {
   "cell_type": "markdown",
   "metadata": {},
   "source": [
    "### Grid search"
   ]
  },
  {
   "cell_type": "markdown",
   "metadata": {},
   "source": [
    "Lets find the **best** combination of hyperparameters, i.e. the ones yielding the least test error, among a prescribed grid of values for each hyperparameter"
   ]
  },
  {
   "cell_type": "code",
   "execution_count": 133,
   "metadata": {},
   "outputs": [],
   "source": [
    "from sklearn.model_selection import GridSearchCV"
   ]
  },
  {
   "cell_type": "code",
   "execution_count": 134,
   "metadata": {},
   "outputs": [],
   "source": [
    "gs = GridSearchCV(\n",
    "    estimator=DecisionTreeRegressor(),\n",
    "    param_grid={\n",
    "        \"max_depth\": [4, 5, 6, 7],\n",
    "        \"min_samples_split\": [10, 50, 100, 300, 1000],\n",
    "        \"max_features\": [7, 11]\n",
    "    },\n",
    "    cv=5,\n",
    "    verbose=3,\n",
    "    scoring=\"neg_mean_squared_error\",\n",
    "    return_train_score=True\n",
    ")"
   ]
  },
  {
   "cell_type": "code",
   "execution_count": 135,
   "metadata": {},
   "outputs": [
    {
     "name": "stdout",
     "output_type": "stream",
     "text": [
      "Fitting 5 folds for each of 40 candidates, totalling 200 fits\n",
      "[CV] max_depth=4, max_features=7, min_samples_split=10 ...............\n",
      "[CV]  max_depth=4, max_features=7, min_samples_split=10, score=(train=-0.526, test=-0.561), total=   0.0s\n",
      "[CV] max_depth=4, max_features=7, min_samples_split=10 ...............\n",
      "[CV]  max_depth=4, max_features=7, min_samples_split=10, score=(train=-0.557, test=-0.594), total=   0.0s\n",
      "[CV] max_depth=4, max_features=7, min_samples_split=10 ...............\n",
      "[CV]  max_depth=4, max_features=7, min_samples_split=10, score=(train=-0.528, test=-0.577), total=   0.0s\n",
      "[CV] max_depth=4, max_features=7, min_samples_split=10 ...............\n",
      "[CV]  max_depth=4, max_features=7, min_samples_split=10, score=(train=-0.537, test=-0.570), total=   0.0s\n",
      "[CV] max_depth=4, max_features=7, min_samples_split=10 ...............\n",
      "[CV]  max_depth=4, max_features=7, min_samples_split=10, score=(train=-0.550, test=-0.600), total=   0.0s\n",
      "[CV] max_depth=4, max_features=7, min_samples_split=50 ...............\n",
      "[CV]  max_depth=4, max_features=7, min_samples_split=50, score=(train=-0.537, test=-0.621), total=   0.0s\n",
      "[CV] max_depth=4, max_features=7, min_samples_split=50 ...............\n",
      "[CV]  max_depth=4, max_features=7, min_samples_split=50, score=(train=-0.533, test=-0.575), total=   0.0s\n",
      "[CV] max_depth=4, max_features=7, min_samples_split=50 ...............\n",
      "[CV]  max_depth=4, max_features=7, min_samples_split=50, score=(train=-0.535, test=-0.560), total=   0.0s\n",
      "[CV] max_depth=4, max_features=7, min_samples_split=50 ...............\n",
      "[CV]  max_depth=4, max_features=7, min_samples_split=50, score=(train=-0.542, test=-0.567), total=   0.0s\n",
      "[CV] max_depth=4, max_features=7, min_samples_split=50 ...............\n"
     ]
    },
    {
     "name": "stderr",
     "output_type": "stream",
     "text": [
      "[Parallel(n_jobs=1)]: Using backend SequentialBackend with 1 concurrent workers.\n",
      "[Parallel(n_jobs=1)]: Done   1 out of   1 | elapsed:    0.0s remaining:    0.0s\n",
      "[Parallel(n_jobs=1)]: Done   2 out of   2 | elapsed:    0.0s remaining:    0.0s\n"
     ]
    },
    {
     "name": "stdout",
     "output_type": "stream",
     "text": [
      "[CV]  max_depth=4, max_features=7, min_samples_split=50, score=(train=-0.551, test=-0.588), total=   0.0s\n",
      "[CV] max_depth=4, max_features=7, min_samples_split=100 ..............\n",
      "[CV]  max_depth=4, max_features=7, min_samples_split=100, score=(train=-0.559, test=-0.621), total=   0.0s\n",
      "[CV] max_depth=4, max_features=7, min_samples_split=100 ..............\n",
      "[CV]  max_depth=4, max_features=7, min_samples_split=100, score=(train=-0.546, test=-0.564), total=   0.0s\n",
      "[CV] max_depth=4, max_features=7, min_samples_split=100 ..............\n",
      "[CV]  max_depth=4, max_features=7, min_samples_split=100, score=(train=-0.551, test=-0.597), total=   0.0s\n",
      "[CV] max_depth=4, max_features=7, min_samples_split=100 ..............\n",
      "[CV]  max_depth=4, max_features=7, min_samples_split=100, score=(train=-0.537, test=-0.563), total=   0.0s\n",
      "[CV] max_depth=4, max_features=7, min_samples_split=100 ..............\n",
      "[CV]  max_depth=4, max_features=7, min_samples_split=100, score=(train=-0.562, test=-0.610), total=   0.0s\n",
      "[CV] max_depth=4, max_features=7, min_samples_split=300 ..............\n",
      "[CV]  max_depth=4, max_features=7, min_samples_split=300, score=(train=-0.548, test=-0.598), total=   0.0s\n",
      "[CV] max_depth=4, max_features=7, min_samples_split=300 ..............\n",
      "[CV]  max_depth=4, max_features=7, min_samples_split=300, score=(train=-0.547, test=-0.587), total=   0.0s\n",
      "[CV] max_depth=4, max_features=7, min_samples_split=300 ..............\n",
      "[CV]  max_depth=4, max_features=7, min_samples_split=300, score=(train=-0.562, test=-0.619), total=   0.0s\n",
      "[CV] max_depth=4, max_features=7, min_samples_split=300 ..............\n",
      "[CV]  max_depth=4, max_features=7, min_samples_split=300, score=(train=-0.562, test=-0.572), total=   0.0s\n",
      "[CV] max_depth=4, max_features=7, min_samples_split=300 ..............\n",
      "[CV]  max_depth=4, max_features=7, min_samples_split=300, score=(train=-0.549, test=-0.556), total=   0.0s\n",
      "[CV] max_depth=4, max_features=7, min_samples_split=1000 .............\n",
      "[CV]  max_depth=4, max_features=7, min_samples_split=1000, score=(train=-0.607, test=-0.641), total=   0.0s\n",
      "[CV] max_depth=4, max_features=7, min_samples_split=1000 .............\n",
      "[CV]  max_depth=4, max_features=7, min_samples_split=1000, score=(train=-0.566, test=-0.587), total=   0.0s\n",
      "[CV] max_depth=4, max_features=7, min_samples_split=1000 .............\n",
      "[CV]  max_depth=4, max_features=7, min_samples_split=1000, score=(train=-0.596, test=-0.637), total=   0.0s\n",
      "[CV] max_depth=4, max_features=7, min_samples_split=1000 .............\n",
      "[CV]  max_depth=4, max_features=7, min_samples_split=1000, score=(train=-0.593, test=-0.607), total=   0.0s\n",
      "[CV] max_depth=4, max_features=7, min_samples_split=1000 .............\n",
      "[CV]  max_depth=4, max_features=7, min_samples_split=1000, score=(train=-0.635, test=-0.604), total=   0.0s\n",
      "[CV] max_depth=4, max_features=11, min_samples_split=10 ..............\n",
      "[CV]  max_depth=4, max_features=11, min_samples_split=10, score=(train=-0.524, test=-0.559), total=   0.0s\n",
      "[CV] max_depth=4, max_features=11, min_samples_split=10 ..............\n",
      "[CV]  max_depth=4, max_features=11, min_samples_split=10, score=(train=-0.528, test=-0.577), total=   0.0s\n",
      "[CV] max_depth=4, max_features=11, min_samples_split=10 ..............\n",
      "[CV]  max_depth=4, max_features=11, min_samples_split=10, score=(train=-0.521, test=-0.564), total=   0.0s\n",
      "[CV] max_depth=4, max_features=11, min_samples_split=10 ..............\n",
      "[CV]  max_depth=4, max_features=11, min_samples_split=10, score=(train=-0.519, test=-0.576), total=   0.0s\n",
      "[CV] max_depth=4, max_features=11, min_samples_split=10 ..............\n",
      "[CV]  max_depth=4, max_features=11, min_samples_split=10, score=(train=-0.534, test=-0.565), total=   0.0s\n",
      "[CV] max_depth=4, max_features=11, min_samples_split=50 ..............\n",
      "[CV]  max_depth=4, max_features=11, min_samples_split=50, score=(train=-0.524, test=-0.559), total=   0.0s\n",
      "[CV] max_depth=4, max_features=11, min_samples_split=50 ..............\n",
      "[CV]  max_depth=4, max_features=11, min_samples_split=50, score=(train=-0.530, test=-0.577), total=   0.0s\n",
      "[CV] max_depth=4, max_features=11, min_samples_split=50 ..............\n",
      "[CV]  max_depth=4, max_features=11, min_samples_split=50, score=(train=-0.521, test=-0.564), total=   0.0s\n",
      "[CV] max_depth=4, max_features=11, min_samples_split=50 ..............\n",
      "[CV]  max_depth=4, max_features=11, min_samples_split=50, score=(train=-0.519, test=-0.576), total=   0.0s\n",
      "[CV] max_depth=4, max_features=11, min_samples_split=50 ..............\n",
      "[CV]  max_depth=4, max_features=11, min_samples_split=50, score=(train=-0.537, test=-0.560), total=   0.0s\n",
      "[CV] max_depth=4, max_features=11, min_samples_split=100 .............\n",
      "[CV]  max_depth=4, max_features=11, min_samples_split=100, score=(train=-0.531, test=-0.552), total=   0.0s\n",
      "[CV] max_depth=4, max_features=11, min_samples_split=100 .............\n",
      "[CV]  max_depth=4, max_features=11, min_samples_split=100, score=(train=-0.537, test=-0.576), total=   0.0s\n",
      "[CV] max_depth=4, max_features=11, min_samples_split=100 .............\n",
      "[CV]  max_depth=4, max_features=11, min_samples_split=100, score=(train=-0.528, test=-0.566), total=   0.0s\n",
      "[CV] max_depth=4, max_features=11, min_samples_split=100 .............\n",
      "[CV]  max_depth=4, max_features=11, min_samples_split=100, score=(train=-0.524, test=-0.575), total=   0.0s\n",
      "[CV] max_depth=4, max_features=11, min_samples_split=100 .............\n",
      "[CV]  max_depth=4, max_features=11, min_samples_split=100, score=(train=-0.543, test=-0.559), total=   0.0s\n",
      "[CV] max_depth=4, max_features=11, min_samples_split=300 .............\n",
      "[CV]  max_depth=4, max_features=11, min_samples_split=300, score=(train=-0.532, test=-0.553), total=   0.0s\n",
      "[CV] max_depth=4, max_features=11, min_samples_split=300 .............\n",
      "[CV]  max_depth=4, max_features=11, min_samples_split=300, score=(train=-0.537, test=-0.576), total=   0.0s\n",
      "[CV] max_depth=4, max_features=11, min_samples_split=300 .............\n",
      "[CV]  max_depth=4, max_features=11, min_samples_split=300, score=(train=-0.530, test=-0.562), total=   0.0s\n",
      "[CV] max_depth=4, max_features=11, min_samples_split=300 .............\n",
      "[CV]  max_depth=4, max_features=11, min_samples_split=300, score=(train=-0.526, test=-0.572), total=   0.0s\n",
      "[CV] max_depth=4, max_features=11, min_samples_split=300 .............\n",
      "[CV]  max_depth=4, max_features=11, min_samples_split=300, score=(train=-0.549, test=-0.563), total=   0.0s\n",
      "[CV] max_depth=4, max_features=11, min_samples_split=1000 ............\n",
      "[CV]  max_depth=4, max_features=11, min_samples_split=1000, score=(train=-0.564, test=-0.589), total=   0.0s\n",
      "[CV] max_depth=4, max_features=11, min_samples_split=1000 ............\n",
      "[CV]  max_depth=4, max_features=11, min_samples_split=1000, score=(train=-0.566, test=-0.587), total=   0.0s\n",
      "[CV] max_depth=4, max_features=11, min_samples_split=1000 ............\n",
      "[CV]  max_depth=4, max_features=11, min_samples_split=1000, score=(train=-0.568, test=-0.587), total=   0.0s\n",
      "[CV] max_depth=4, max_features=11, min_samples_split=1000 ............\n",
      "[CV]  max_depth=4, max_features=11, min_samples_split=1000, score=(train=-0.569, test=-0.568), total=   0.0s\n",
      "[CV] max_depth=4, max_features=11, min_samples_split=1000 ............\n",
      "[CV]  max_depth=4, max_features=11, min_samples_split=1000, score=(train=-0.573, test=-0.564), total=   0.0s\n",
      "[CV] max_depth=5, max_features=7, min_samples_split=10 ...............\n",
      "[CV]  max_depth=5, max_features=7, min_samples_split=10, score=(train=-0.506, test=-0.578), total=   0.0s\n",
      "[CV] max_depth=5, max_features=7, min_samples_split=10 ...............\n",
      "[CV]  max_depth=5, max_features=7, min_samples_split=10, score=(train=-0.506, test=-0.560), total=   0.0s\n",
      "[CV] max_depth=5, max_features=7, min_samples_split=10 ...............\n",
      "[CV]  max_depth=5, max_features=7, min_samples_split=10, score=(train=-0.509, test=-0.607), total=   0.0s\n",
      "[CV] max_depth=5, max_features=7, min_samples_split=10 ...............\n",
      "[CV]  max_depth=5, max_features=7, min_samples_split=10, score=(train=-0.497, test=-0.595), total=   0.0s\n",
      "[CV] max_depth=5, max_features=7, min_samples_split=10 ...............\n",
      "[CV]  max_depth=5, max_features=7, min_samples_split=10, score=(train=-0.507, test=-0.539), total=   0.0s\n",
      "[CV] max_depth=5, max_features=7, min_samples_split=50 ...............\n",
      "[CV]  max_depth=5, max_features=7, min_samples_split=50, score=(train=-0.503, test=-0.575), total=   0.0s\n",
      "[CV] max_depth=5, max_features=7, min_samples_split=50 ...............\n",
      "[CV]  max_depth=5, max_features=7, min_samples_split=50, score=(train=-0.529, test=-0.564), total=   0.0s\n",
      "[CV] max_depth=5, max_features=7, min_samples_split=50 ...............\n",
      "[CV]  max_depth=5, max_features=7, min_samples_split=50, score=(train=-0.492, test=-0.586), total=   0.0s\n",
      "[CV] max_depth=5, max_features=7, min_samples_split=50 ...............\n"
     ]
    },
    {
     "name": "stdout",
     "output_type": "stream",
     "text": [
      "[CV]  max_depth=5, max_features=7, min_samples_split=50, score=(train=-0.509, test=-0.566), total=   0.0s\n",
      "[CV] max_depth=5, max_features=7, min_samples_split=50 ...............\n",
      "[CV]  max_depth=5, max_features=7, min_samples_split=50, score=(train=-0.515, test=-0.551), total=   0.0s\n",
      "[CV] max_depth=5, max_features=7, min_samples_split=100 ..............\n",
      "[CV]  max_depth=5, max_features=7, min_samples_split=100, score=(train=-0.511, test=-0.590), total=   0.0s\n",
      "[CV] max_depth=5, max_features=7, min_samples_split=100 ..............\n",
      "[CV]  max_depth=5, max_features=7, min_samples_split=100, score=(train=-0.515, test=-0.545), total=   0.0s\n",
      "[CV] max_depth=5, max_features=7, min_samples_split=100 ..............\n",
      "[CV]  max_depth=5, max_features=7, min_samples_split=100, score=(train=-0.507, test=-0.563), total=   0.0s\n",
      "[CV] max_depth=5, max_features=7, min_samples_split=100 ..............\n",
      "[CV]  max_depth=5, max_features=7, min_samples_split=100, score=(train=-0.509, test=-0.558), total=   0.0s\n",
      "[CV] max_depth=5, max_features=7, min_samples_split=100 ..............\n",
      "[CV]  max_depth=5, max_features=7, min_samples_split=100, score=(train=-0.522, test=-0.541), total=   0.0s\n",
      "[CV] max_depth=5, max_features=7, min_samples_split=300 ..............\n",
      "[CV]  max_depth=5, max_features=7, min_samples_split=300, score=(train=-0.534, test=-0.594), total=   0.0s\n",
      "[CV] max_depth=5, max_features=7, min_samples_split=300 ..............\n",
      "[CV]  max_depth=5, max_features=7, min_samples_split=300, score=(train=-0.534, test=-0.553), total=   0.0s\n",
      "[CV] max_depth=5, max_features=7, min_samples_split=300 ..............\n",
      "[CV]  max_depth=5, max_features=7, min_samples_split=300, score=(train=-0.528, test=-0.571), total=   0.0s\n",
      "[CV] max_depth=5, max_features=7, min_samples_split=300 ..............\n",
      "[CV]  max_depth=5, max_features=7, min_samples_split=300, score=(train=-0.517, test=-0.577), total=   0.0s\n",
      "[CV] max_depth=5, max_features=7, min_samples_split=300 ..............\n",
      "[CV]  max_depth=5, max_features=7, min_samples_split=300, score=(train=-0.535, test=-0.546), total=   0.0s\n",
      "[CV] max_depth=5, max_features=7, min_samples_split=1000 .............\n",
      "[CV]  max_depth=5, max_features=7, min_samples_split=1000, score=(train=-0.557, test=-0.580), total=   0.0s\n",
      "[CV] max_depth=5, max_features=7, min_samples_split=1000 .............\n",
      "[CV]  max_depth=5, max_features=7, min_samples_split=1000, score=(train=-0.580, test=-0.589), total=   0.0s\n",
      "[CV] max_depth=5, max_features=7, min_samples_split=1000 .............\n",
      "[CV]  max_depth=5, max_features=7, min_samples_split=1000, score=(train=-0.564, test=-0.578), total=   0.0s\n",
      "[CV] max_depth=5, max_features=7, min_samples_split=1000 .............\n",
      "[CV]  max_depth=5, max_features=7, min_samples_split=1000, score=(train=-0.571, test=-0.561), total=   0.0s\n",
      "[CV] max_depth=5, max_features=7, min_samples_split=1000 .............\n",
      "[CV]  max_depth=5, max_features=7, min_samples_split=1000, score=(train=-0.612, test=-0.583), total=   0.0s\n",
      "[CV] max_depth=5, max_features=11, min_samples_split=10 ..............\n",
      "[CV]  max_depth=5, max_features=11, min_samples_split=10, score=(train=-0.483, test=-0.548), total=   0.0s\n",
      "[CV] max_depth=5, max_features=11, min_samples_split=10 ..............\n",
      "[CV]  max_depth=5, max_features=11, min_samples_split=10, score=(train=-0.493, test=-0.555), total=   0.0s\n",
      "[CV] max_depth=5, max_features=11, min_samples_split=10 ..............\n",
      "[CV]  max_depth=5, max_features=11, min_samples_split=10, score=(train=-0.483, test=-0.584), total=   0.0s\n",
      "[CV] max_depth=5, max_features=11, min_samples_split=10 ..............\n",
      "[CV]  max_depth=5, max_features=11, min_samples_split=10, score=(train=-0.485, test=-0.559), total=   0.0s\n",
      "[CV] max_depth=5, max_features=11, min_samples_split=10 ..............\n",
      "[CV]  max_depth=5, max_features=11, min_samples_split=10, score=(train=-0.505, test=-0.565), total=   0.0s\n",
      "[CV] max_depth=5, max_features=11, min_samples_split=50 ..............\n",
      "[CV]  max_depth=5, max_features=11, min_samples_split=50, score=(train=-0.490, test=-0.543), total=   0.0s\n",
      "[CV] max_depth=5, max_features=11, min_samples_split=50 ..............\n",
      "[CV]  max_depth=5, max_features=11, min_samples_split=50, score=(train=-0.502, test=-0.555), total=   0.0s\n",
      "[CV] max_depth=5, max_features=11, min_samples_split=50 ..............\n",
      "[CV]  max_depth=5, max_features=11, min_samples_split=50, score=(train=-0.492, test=-0.553), total=   0.0s\n",
      "[CV] max_depth=5, max_features=11, min_samples_split=50 ..............\n",
      "[CV]  max_depth=5, max_features=11, min_samples_split=50, score=(train=-0.490, test=-0.559), total=   0.0s\n",
      "[CV] max_depth=5, max_features=11, min_samples_split=50 ..............\n",
      "[CV]  max_depth=5, max_features=11, min_samples_split=50, score=(train=-0.513, test=-0.552), total=   0.0s\n",
      "[CV] max_depth=5, max_features=11, min_samples_split=100 .............\n",
      "[CV]  max_depth=5, max_features=11, min_samples_split=100, score=(train=-0.502, test=-0.547), total=   0.0s\n",
      "[CV] max_depth=5, max_features=11, min_samples_split=100 .............\n",
      "[CV]  max_depth=5, max_features=11, min_samples_split=100, score=(train=-0.510, test=-0.554), total=   0.0s\n",
      "[CV] max_depth=5, max_features=11, min_samples_split=100 .............\n",
      "[CV]  max_depth=5, max_features=11, min_samples_split=100, score=(train=-0.507, test=-0.561), total=   0.0s\n",
      "[CV] max_depth=5, max_features=11, min_samples_split=100 .............\n",
      "[CV]  max_depth=5, max_features=11, min_samples_split=100, score=(train=-0.500, test=-0.567), total=   0.0s\n",
      "[CV] max_depth=5, max_features=11, min_samples_split=100 .............\n",
      "[CV]  max_depth=5, max_features=11, min_samples_split=100, score=(train=-0.525, test=-0.547), total=   0.0s\n",
      "[CV] max_depth=5, max_features=11, min_samples_split=300 .............\n",
      "[CV]  max_depth=5, max_features=11, min_samples_split=300, score=(train=-0.516, test=-0.550), total=   0.0s\n",
      "[CV] max_depth=5, max_features=11, min_samples_split=300 .............\n",
      "[CV]  max_depth=5, max_features=11, min_samples_split=300, score=(train=-0.512, test=-0.554), total=   0.0s\n",
      "[CV] max_depth=5, max_features=11, min_samples_split=300 .............\n",
      "[CV]  max_depth=5, max_features=11, min_samples_split=300, score=(train=-0.518, test=-0.563), total=   0.0s\n",
      "[CV] max_depth=5, max_features=11, min_samples_split=300 .............\n",
      "[CV]  max_depth=5, max_features=11, min_samples_split=300, score=(train=-0.512, test=-0.562), total=   0.0s\n",
      "[CV] max_depth=5, max_features=11, min_samples_split=300 .............\n",
      "[CV]  max_depth=5, max_features=11, min_samples_split=300, score=(train=-0.535, test=-0.550), total=   0.0s\n",
      "[CV] max_depth=5, max_features=11, min_samples_split=1000 ............\n",
      "[CV]  max_depth=5, max_features=11, min_samples_split=1000, score=(train=-0.564, test=-0.589), total=   0.0s\n",
      "[CV] max_depth=5, max_features=11, min_samples_split=1000 ............\n",
      "[CV]  max_depth=5, max_features=11, min_samples_split=1000, score=(train=-0.566, test=-0.587), total=   0.0s\n",
      "[CV] max_depth=5, max_features=11, min_samples_split=1000 ............\n",
      "[CV]  max_depth=5, max_features=11, min_samples_split=1000, score=(train=-0.568, test=-0.587), total=   0.0s\n",
      "[CV] max_depth=5, max_features=11, min_samples_split=1000 ............\n",
      "[CV]  max_depth=5, max_features=11, min_samples_split=1000, score=(train=-0.569, test=-0.568), total=   0.0s\n",
      "[CV] max_depth=5, max_features=11, min_samples_split=1000 ............\n",
      "[CV]  max_depth=5, max_features=11, min_samples_split=1000, score=(train=-0.573, test=-0.564), total=   0.0s\n",
      "[CV] max_depth=6, max_features=7, min_samples_split=10 ...............\n",
      "[CV]  max_depth=6, max_features=7, min_samples_split=10, score=(train=-0.461, test=-0.535), total=   0.0s\n",
      "[CV] max_depth=6, max_features=7, min_samples_split=10 ...............\n",
      "[CV]  max_depth=6, max_features=7, min_samples_split=10, score=(train=-0.470, test=-0.552), total=   0.0s\n",
      "[CV] max_depth=6, max_features=7, min_samples_split=10 ...............\n",
      "[CV]  max_depth=6, max_features=7, min_samples_split=10, score=(train=-0.452, test=-0.584), total=   0.0s\n",
      "[CV] max_depth=6, max_features=7, min_samples_split=10 ...............\n",
      "[CV]  max_depth=6, max_features=7, min_samples_split=10, score=(train=-0.459, test=-0.556), total=   0.0s\n",
      "[CV] max_depth=6, max_features=7, min_samples_split=10 ...............\n",
      "[CV]  max_depth=6, max_features=7, min_samples_split=10, score=(train=-0.469, test=-0.576), total=   0.0s\n",
      "[CV] max_depth=6, max_features=7, min_samples_split=50 ...............\n",
      "[CV]  max_depth=6, max_features=7, min_samples_split=50, score=(train=-0.483, test=-0.573), total=   0.0s\n",
      "[CV] max_depth=6, max_features=7, min_samples_split=50 ...............\n",
      "[CV]  max_depth=6, max_features=7, min_samples_split=50, score=(train=-0.504, test=-0.574), total=   0.0s\n",
      "[CV] max_depth=6, max_features=7, min_samples_split=50 ...............\n",
      "[CV]  max_depth=6, max_features=7, min_samples_split=50, score=(train=-0.490, test=-0.548), total=   0.0s\n",
      "[CV] max_depth=6, max_features=7, min_samples_split=50 ...............\n"
     ]
    },
    {
     "name": "stdout",
     "output_type": "stream",
     "text": [
      "[CV]  max_depth=6, max_features=7, min_samples_split=50, score=(train=-0.483, test=-0.545), total=   0.0s\n",
      "[CV] max_depth=6, max_features=7, min_samples_split=50 ...............\n",
      "[CV]  max_depth=6, max_features=7, min_samples_split=50, score=(train=-0.484, test=-0.576), total=   0.0s\n",
      "[CV] max_depth=6, max_features=7, min_samples_split=100 ..............\n",
      "[CV]  max_depth=6, max_features=7, min_samples_split=100, score=(train=-0.496, test=-0.562), total=   0.0s\n",
      "[CV] max_depth=6, max_features=7, min_samples_split=100 ..............\n",
      "[CV]  max_depth=6, max_features=7, min_samples_split=100, score=(train=-0.484, test=-0.567), total=   0.0s\n",
      "[CV] max_depth=6, max_features=7, min_samples_split=100 ..............\n",
      "[CV]  max_depth=6, max_features=7, min_samples_split=100, score=(train=-0.489, test=-0.558), total=   0.0s\n",
      "[CV] max_depth=6, max_features=7, min_samples_split=100 ..............\n",
      "[CV]  max_depth=6, max_features=7, min_samples_split=100, score=(train=-0.488, test=-0.568), total=   0.0s\n",
      "[CV] max_depth=6, max_features=7, min_samples_split=100 ..............\n",
      "[CV]  max_depth=6, max_features=7, min_samples_split=100, score=(train=-0.506, test=-0.531), total=   0.0s\n",
      "[CV] max_depth=6, max_features=7, min_samples_split=300 ..............\n",
      "[CV]  max_depth=6, max_features=7, min_samples_split=300, score=(train=-0.530, test=-0.597), total=   0.0s\n",
      "[CV] max_depth=6, max_features=7, min_samples_split=300 ..............\n",
      "[CV]  max_depth=6, max_features=7, min_samples_split=300, score=(train=-0.504, test=-0.551), total=   0.0s\n",
      "[CV] max_depth=6, max_features=7, min_samples_split=300 ..............\n",
      "[CV]  max_depth=6, max_features=7, min_samples_split=300, score=(train=-0.514, test=-0.580), total=   0.0s\n",
      "[CV] max_depth=6, max_features=7, min_samples_split=300 ..............\n",
      "[CV]  max_depth=6, max_features=7, min_samples_split=300, score=(train=-0.519, test=-0.568), total=   0.0s\n",
      "[CV] max_depth=6, max_features=7, min_samples_split=300 ..............\n",
      "[CV]  max_depth=6, max_features=7, min_samples_split=300, score=(train=-0.526, test=-0.582), total=   0.0s\n",
      "[CV] max_depth=6, max_features=7, min_samples_split=1000 .............\n",
      "[CV]  max_depth=6, max_features=7, min_samples_split=1000, score=(train=-0.564, test=-0.589), total=   0.0s\n",
      "[CV] max_depth=6, max_features=7, min_samples_split=1000 .............\n",
      "[CV]  max_depth=6, max_features=7, min_samples_split=1000, score=(train=-0.558, test=-0.586), total=   0.0s\n",
      "[CV] max_depth=6, max_features=7, min_samples_split=1000 .............\n",
      "[CV]  max_depth=6, max_features=7, min_samples_split=1000, score=(train=-0.573, test=-0.591), total=   0.0s\n",
      "[CV] max_depth=6, max_features=7, min_samples_split=1000 .............\n",
      "[CV]  max_depth=6, max_features=7, min_samples_split=1000, score=(train=-0.586, test=-0.589), total=   0.0s\n",
      "[CV] max_depth=6, max_features=7, min_samples_split=1000 .............\n",
      "[CV]  max_depth=6, max_features=7, min_samples_split=1000, score=(train=-0.578, test=-0.576), total=   0.0s\n",
      "[CV] max_depth=6, max_features=11, min_samples_split=10 ..............\n",
      "[CV]  max_depth=6, max_features=11, min_samples_split=10, score=(train=-0.448, test=-0.539), total=   0.0s\n",
      "[CV] max_depth=6, max_features=11, min_samples_split=10 ..............\n",
      "[CV]  max_depth=6, max_features=11, min_samples_split=10, score=(train=-0.450, test=-0.543), total=   0.0s\n",
      "[CV] max_depth=6, max_features=11, min_samples_split=10 ..............\n",
      "[CV]  max_depth=6, max_features=11, min_samples_split=10, score=(train=-0.443, test=-0.596), total=   0.0s\n",
      "[CV] max_depth=6, max_features=11, min_samples_split=10 ..............\n",
      "[CV]  max_depth=6, max_features=11, min_samples_split=10, score=(train=-0.453, test=-0.555), total=   0.0s\n",
      "[CV] max_depth=6, max_features=11, min_samples_split=10 ..............\n",
      "[CV]  max_depth=6, max_features=11, min_samples_split=10, score=(train=-0.467, test=-0.543), total=   0.0s\n",
      "[CV] max_depth=6, max_features=11, min_samples_split=50 ..............\n",
      "[CV]  max_depth=6, max_features=11, min_samples_split=50, score=(train=-0.463, test=-0.534), total=   0.0s\n",
      "[CV] max_depth=6, max_features=11, min_samples_split=50 ..............\n",
      "[CV]  max_depth=6, max_features=11, min_samples_split=50, score=(train=-0.468, test=-0.543), total=   0.0s\n",
      "[CV] max_depth=6, max_features=11, min_samples_split=50 ..............\n",
      "[CV]  max_depth=6, max_features=11, min_samples_split=50, score=(train=-0.461, test=-0.564), total=   0.0s\n",
      "[CV] max_depth=6, max_features=11, min_samples_split=50 ..............\n",
      "[CV]  max_depth=6, max_features=11, min_samples_split=50, score=(train=-0.466, test=-0.557), total=   0.0s\n",
      "[CV] max_depth=6, max_features=11, min_samples_split=50 ..............\n",
      "[CV]  max_depth=6, max_features=11, min_samples_split=50, score=(train=-0.484, test=-0.545), total=   0.0s\n",
      "[CV] max_depth=6, max_features=11, min_samples_split=100 .............\n",
      "[CV]  max_depth=6, max_features=11, min_samples_split=100, score=(train=-0.477, test=-0.533), total=   0.0s\n",
      "[CV] max_depth=6, max_features=11, min_samples_split=100 .............\n",
      "[CV]  max_depth=6, max_features=11, min_samples_split=100, score=(train=-0.489, test=-0.552), total=   0.0s\n",
      "[CV] max_depth=6, max_features=11, min_samples_split=100 .............\n",
      "[CV]  max_depth=6, max_features=11, min_samples_split=100, score=(train=-0.484, test=-0.576), total=   0.0s\n",
      "[CV] max_depth=6, max_features=11, min_samples_split=100 .............\n",
      "[CV]  max_depth=6, max_features=11, min_samples_split=100, score=(train=-0.478, test=-0.564), total=   0.0s\n",
      "[CV] max_depth=6, max_features=11, min_samples_split=100 .............\n",
      "[CV]  max_depth=6, max_features=11, min_samples_split=100, score=(train=-0.502, test=-0.537), total=   0.0s\n",
      "[CV] max_depth=6, max_features=11, min_samples_split=300 .............\n",
      "[CV]  max_depth=6, max_features=11, min_samples_split=300, score=(train=-0.502, test=-0.542), total=   0.0s\n",
      "[CV] max_depth=6, max_features=11, min_samples_split=300 .............\n",
      "[CV]  max_depth=6, max_features=11, min_samples_split=300, score=(train=-0.499, test=-0.550), total=   0.0s\n",
      "[CV] max_depth=6, max_features=11, min_samples_split=300 .............\n",
      "[CV]  max_depth=6, max_features=11, min_samples_split=300, score=(train=-0.508, test=-0.566), total=   0.0s\n",
      "[CV] max_depth=6, max_features=11, min_samples_split=300 .............\n",
      "[CV]  max_depth=6, max_features=11, min_samples_split=300, score=(train=-0.499, test=-0.560), total=   0.0s\n",
      "[CV] max_depth=6, max_features=11, min_samples_split=300 .............\n",
      "[CV]  max_depth=6, max_features=11, min_samples_split=300, score=(train=-0.519, test=-0.553), total=   0.0s\n",
      "[CV] max_depth=6, max_features=11, min_samples_split=1000 ............\n",
      "[CV]  max_depth=6, max_features=11, min_samples_split=1000, score=(train=-0.564, test=-0.589), total=   0.0s\n",
      "[CV] max_depth=6, max_features=11, min_samples_split=1000 ............\n",
      "[CV]  max_depth=6, max_features=11, min_samples_split=1000, score=(train=-0.566, test=-0.587), total=   0.0s\n",
      "[CV] max_depth=6, max_features=11, min_samples_split=1000 ............\n",
      "[CV]  max_depth=6, max_features=11, min_samples_split=1000, score=(train=-0.568, test=-0.587), total=   0.0s\n",
      "[CV] max_depth=6, max_features=11, min_samples_split=1000 ............\n",
      "[CV]  max_depth=6, max_features=11, min_samples_split=1000, score=(train=-0.569, test=-0.568), total=   0.0s\n",
      "[CV] max_depth=6, max_features=11, min_samples_split=1000 ............\n",
      "[CV]  max_depth=6, max_features=11, min_samples_split=1000, score=(train=-0.573, test=-0.564), total=   0.0s\n",
      "[CV] max_depth=7, max_features=7, min_samples_split=10 ...............\n",
      "[CV]  max_depth=7, max_features=7, min_samples_split=10, score=(train=-0.428, test=-0.594), total=   0.0s\n",
      "[CV] max_depth=7, max_features=7, min_samples_split=10 ...............\n",
      "[CV]  max_depth=7, max_features=7, min_samples_split=10, score=(train=-0.426, test=-0.522), total=   0.0s\n",
      "[CV] max_depth=7, max_features=7, min_samples_split=10 ...............\n",
      "[CV]  max_depth=7, max_features=7, min_samples_split=10, score=(train=-0.412, test=-0.615), total=   0.0s\n",
      "[CV] max_depth=7, max_features=7, min_samples_split=10 ...............\n",
      "[CV]  max_depth=7, max_features=7, min_samples_split=10, score=(train=-0.421, test=-0.587), total=   0.0s\n",
      "[CV] max_depth=7, max_features=7, min_samples_split=10 ...............\n",
      "[CV]  max_depth=7, max_features=7, min_samples_split=10, score=(train=-0.406, test=-0.584), total=   0.0s\n",
      "[CV] max_depth=7, max_features=7, min_samples_split=50 ...............\n",
      "[CV]  max_depth=7, max_features=7, min_samples_split=50, score=(train=-0.444, test=-0.565), total=   0.0s\n",
      "[CV] max_depth=7, max_features=7, min_samples_split=50 ...............\n",
      "[CV]  max_depth=7, max_features=7, min_samples_split=50, score=(train=-0.452, test=-0.582), total=   0.0s\n",
      "[CV] max_depth=7, max_features=7, min_samples_split=50 ...............\n",
      "[CV]  max_depth=7, max_features=7, min_samples_split=50, score=(train=-0.443, test=-0.572), total=   0.0s\n",
      "[CV] max_depth=7, max_features=7, min_samples_split=50 ...............\n",
      "[CV]  max_depth=7, max_features=7, min_samples_split=50, score=(train=-0.454, test=-0.543), total=   0.0s\n",
      "[CV] max_depth=7, max_features=7, min_samples_split=50 ...............\n",
      "[CV]  max_depth=7, max_features=7, min_samples_split=50, score=(train=-0.458, test=-0.517), total=   0.0s\n",
      "[CV] max_depth=7, max_features=7, min_samples_split=100 ..............\n",
      "[CV]  max_depth=7, max_features=7, min_samples_split=100, score=(train=-0.465, test=-0.569), total=   0.0s\n",
      "[CV] max_depth=7, max_features=7, min_samples_split=100 ..............\n"
     ]
    },
    {
     "name": "stdout",
     "output_type": "stream",
     "text": [
      "[CV]  max_depth=7, max_features=7, min_samples_split=100, score=(train=-0.477, test=-0.530), total=   0.0s\n",
      "[CV] max_depth=7, max_features=7, min_samples_split=100 ..............\n",
      "[CV]  max_depth=7, max_features=7, min_samples_split=100, score=(train=-0.463, test=-0.636), total=   0.0s\n",
      "[CV] max_depth=7, max_features=7, min_samples_split=100 ..............\n",
      "[CV]  max_depth=7, max_features=7, min_samples_split=100, score=(train=-0.489, test=-0.559), total=   0.0s\n",
      "[CV] max_depth=7, max_features=7, min_samples_split=100 ..............\n",
      "[CV]  max_depth=7, max_features=7, min_samples_split=100, score=(train=-0.476, test=-0.558), total=   0.0s\n",
      "[CV] max_depth=7, max_features=7, min_samples_split=300 ..............\n",
      "[CV]  max_depth=7, max_features=7, min_samples_split=300, score=(train=-0.505, test=-0.579), total=   0.0s\n",
      "[CV] max_depth=7, max_features=7, min_samples_split=300 ..............\n",
      "[CV]  max_depth=7, max_features=7, min_samples_split=300, score=(train=-0.499, test=-0.541), total=   0.0s\n",
      "[CV] max_depth=7, max_features=7, min_samples_split=300 ..............\n",
      "[CV]  max_depth=7, max_features=7, min_samples_split=300, score=(train=-0.535, test=-0.590), total=   0.0s\n",
      "[CV] max_depth=7, max_features=7, min_samples_split=300 ..............\n",
      "[CV]  max_depth=7, max_features=7, min_samples_split=300, score=(train=-0.519, test=-0.578), total=   0.0s\n",
      "[CV] max_depth=7, max_features=7, min_samples_split=300 ..............\n",
      "[CV]  max_depth=7, max_features=7, min_samples_split=300, score=(train=-0.514, test=-0.521), total=   0.0s\n",
      "[CV] max_depth=7, max_features=7, min_samples_split=1000 .............\n",
      "[CV]  max_depth=7, max_features=7, min_samples_split=1000, score=(train=-0.557, test=-0.580), total=   0.0s\n",
      "[CV] max_depth=7, max_features=7, min_samples_split=1000 .............\n",
      "[CV]  max_depth=7, max_features=7, min_samples_split=1000, score=(train=-0.642, test=-0.641), total=   0.0s\n",
      "[CV] max_depth=7, max_features=7, min_samples_split=1000 .............\n",
      "[CV]  max_depth=7, max_features=7, min_samples_split=1000, score=(train=-0.560, test=-0.568), total=   0.0s\n",
      "[CV] max_depth=7, max_features=7, min_samples_split=1000 .............\n",
      "[CV]  max_depth=7, max_features=7, min_samples_split=1000, score=(train=-0.573, test=-0.599), total=   0.0s\n",
      "[CV] max_depth=7, max_features=7, min_samples_split=1000 .............\n",
      "[CV]  max_depth=7, max_features=7, min_samples_split=1000, score=(train=-0.558, test=-0.568), total=   0.0s\n",
      "[CV] max_depth=7, max_features=11, min_samples_split=10 ..............\n",
      "[CV]  max_depth=7, max_features=11, min_samples_split=10, score=(train=-0.412, test=-0.547), total=   0.0s\n",
      "[CV] max_depth=7, max_features=11, min_samples_split=10 ..............\n",
      "[CV]  max_depth=7, max_features=11, min_samples_split=10, score=(train=-0.413, test=-0.560), total=   0.0s\n",
      "[CV] max_depth=7, max_features=11, min_samples_split=10 ..............\n",
      "[CV]  max_depth=7, max_features=11, min_samples_split=10, score=(train=-0.395, test=-0.608), total=   0.0s\n",
      "[CV] max_depth=7, max_features=11, min_samples_split=10 ..............\n",
      "[CV]  max_depth=7, max_features=11, min_samples_split=10, score=(train=-0.415, test=-0.562), total=   0.0s\n",
      "[CV] max_depth=7, max_features=11, min_samples_split=10 ..............\n",
      "[CV]  max_depth=7, max_features=11, min_samples_split=10, score=(train=-0.423, test=-0.548), total=   0.0s\n",
      "[CV] max_depth=7, max_features=11, min_samples_split=50 ..............\n",
      "[CV]  max_depth=7, max_features=11, min_samples_split=50, score=(train=-0.436, test=-0.555), total=   0.0s\n",
      "[CV] max_depth=7, max_features=11, min_samples_split=50 ..............\n",
      "[CV]  max_depth=7, max_features=11, min_samples_split=50, score=(train=-0.444, test=-0.557), total=   0.0s\n",
      "[CV] max_depth=7, max_features=11, min_samples_split=50 ..............\n",
      "[CV]  max_depth=7, max_features=11, min_samples_split=50, score=(train=-0.436, test=-0.551), total=   0.0s\n",
      "[CV] max_depth=7, max_features=11, min_samples_split=50 ..............\n",
      "[CV]  max_depth=7, max_features=11, min_samples_split=50, score=(train=-0.446, test=-0.546), total=   0.0s\n",
      "[CV] max_depth=7, max_features=11, min_samples_split=50 ..............\n",
      "[CV]  max_depth=7, max_features=11, min_samples_split=50, score=(train=-0.458, test=-0.547), total=   0.0s\n",
      "[CV] max_depth=7, max_features=11, min_samples_split=100 .............\n",
      "[CV]  max_depth=7, max_features=11, min_samples_split=100, score=(train=-0.458, test=-0.541), total=   0.0s\n",
      "[CV] max_depth=7, max_features=11, min_samples_split=100 .............\n",
      "[CV]  max_depth=7, max_features=11, min_samples_split=100, score=(train=-0.469, test=-0.564), total=   0.0s\n",
      "[CV] max_depth=7, max_features=11, min_samples_split=100 .............\n",
      "[CV]  max_depth=7, max_features=11, min_samples_split=100, score=(train=-0.465, test=-0.562), total=   0.0s\n",
      "[CV] max_depth=7, max_features=11, min_samples_split=100 .............\n",
      "[CV]  max_depth=7, max_features=11, min_samples_split=100, score=(train=-0.458, test=-0.553), total=   0.0s\n",
      "[CV] max_depth=7, max_features=11, min_samples_split=100 .............\n",
      "[CV]  max_depth=7, max_features=11, min_samples_split=100, score=(train=-0.488, test=-0.536), total=   0.0s\n",
      "[CV] max_depth=7, max_features=11, min_samples_split=300 .............\n",
      "[CV]  max_depth=7, max_features=11, min_samples_split=300, score=(train=-0.493, test=-0.542), total=   0.0s\n",
      "[CV] max_depth=7, max_features=11, min_samples_split=300 .............\n",
      "[CV]  max_depth=7, max_features=11, min_samples_split=300, score=(train=-0.494, test=-0.548), total=   0.0s\n",
      "[CV] max_depth=7, max_features=11, min_samples_split=300 .............\n",
      "[CV]  max_depth=7, max_features=11, min_samples_split=300, score=(train=-0.506, test=-0.566), total=   0.0s\n",
      "[CV] max_depth=7, max_features=11, min_samples_split=300 .............\n",
      "[CV]  max_depth=7, max_features=11, min_samples_split=300, score=(train=-0.491, test=-0.562), total=   0.0s\n",
      "[CV] max_depth=7, max_features=11, min_samples_split=300 .............\n",
      "[CV]  max_depth=7, max_features=11, min_samples_split=300, score=(train=-0.508, test=-0.547), total=   0.0s\n",
      "[CV] max_depth=7, max_features=11, min_samples_split=1000 ............\n",
      "[CV]  max_depth=7, max_features=11, min_samples_split=1000, score=(train=-0.564, test=-0.589), total=   0.0s\n",
      "[CV] max_depth=7, max_features=11, min_samples_split=1000 ............\n",
      "[CV]  max_depth=7, max_features=11, min_samples_split=1000, score=(train=-0.566, test=-0.587), total=   0.0s\n",
      "[CV] max_depth=7, max_features=11, min_samples_split=1000 ............\n",
      "[CV]  max_depth=7, max_features=11, min_samples_split=1000, score=(train=-0.568, test=-0.587), total=   0.0s\n",
      "[CV] max_depth=7, max_features=11, min_samples_split=1000 ............\n",
      "[CV]  max_depth=7, max_features=11, min_samples_split=1000, score=(train=-0.569, test=-0.568), total=   0.0s\n",
      "[CV] max_depth=7, max_features=11, min_samples_split=1000 ............\n",
      "[CV]  max_depth=7, max_features=11, min_samples_split=1000, score=(train=-0.573, test=-0.564), total=   0.0s\n",
      "CPU times: user 4.58 s, sys: 32.4 ms, total: 4.62 s\n",
      "Wall time: 4.58 s\n"
     ]
    },
    {
     "name": "stderr",
     "output_type": "stream",
     "text": [
      "[Parallel(n_jobs=1)]: Done 200 out of 200 | elapsed:    4.5s finished\n"
     ]
    },
    {
     "data": {
      "text/plain": [
       "GridSearchCV(cv=5, estimator=DecisionTreeRegressor(),\n",
       "             param_grid={'max_depth': [4, 5, 6, 7], 'max_features': [7, 11],\n",
       "                         'min_samples_split': [10, 50, 100, 300, 1000]},\n",
       "             return_train_score=True, scoring='neg_mean_squared_error',\n",
       "             verbose=3)"
      ]
     },
     "execution_count": 135,
     "metadata": {},
     "output_type": "execute_result"
    }
   ],
   "source": [
    "%%time\n",
    "gs.fit(X_train, y_train)"
   ]
  },
  {
   "cell_type": "markdown",
   "metadata": {},
   "source": [
    "Lets sort all trees by their performance:"
   ]
  },
  {
   "cell_type": "code",
   "execution_count": 151,
   "metadata": {},
   "outputs": [],
   "source": [
    "grid_search_results = pd.DataFrame(gs.cv_results_)\n",
    "# we only keep some of the information\n",
    "grid_search_results = grid_search_results[['param_max_depth', 'param_max_features', 'param_min_samples_split',\n",
    "       'mean_test_score', 'mean_train_score']]"
   ]
  },
  {
   "cell_type": "code",
   "execution_count": 152,
   "metadata": {},
   "outputs": [
    {
     "data": {
      "text/html": [
       "<div>\n",
       "<style scoped>\n",
       "    .dataframe tbody tr th:only-of-type {\n",
       "        vertical-align: middle;\n",
       "    }\n",
       "\n",
       "    .dataframe tbody tr th {\n",
       "        vertical-align: top;\n",
       "    }\n",
       "\n",
       "    .dataframe thead th {\n",
       "        text-align: right;\n",
       "    }\n",
       "</style>\n",
       "<table border=\"1\" class=\"dataframe\">\n",
       "  <thead>\n",
       "    <tr style=\"text-align: right;\">\n",
       "      <th></th>\n",
       "      <th>param_max_depth</th>\n",
       "      <th>param_max_features</th>\n",
       "      <th>param_min_samples_split</th>\n",
       "      <th>mean_test_score</th>\n",
       "      <th>mean_train_score</th>\n",
       "    </tr>\n",
       "  </thead>\n",
       "  <tbody>\n",
       "    <tr>\n",
       "      <th>26</th>\n",
       "      <td>6</td>\n",
       "      <td>11</td>\n",
       "      <td>50</td>\n",
       "      <td>-0.548699</td>\n",
       "      <td>-0.468542</td>\n",
       "    </tr>\n",
       "    <tr>\n",
       "      <th>37</th>\n",
       "      <td>7</td>\n",
       "      <td>11</td>\n",
       "      <td>100</td>\n",
       "      <td>-0.551117</td>\n",
       "      <td>-0.467548</td>\n",
       "    </tr>\n",
       "    <tr>\n",
       "      <th>36</th>\n",
       "      <td>7</td>\n",
       "      <td>11</td>\n",
       "      <td>50</td>\n",
       "      <td>-0.551250</td>\n",
       "      <td>-0.443914</td>\n",
       "    </tr>\n",
       "    <tr>\n",
       "      <th>27</th>\n",
       "      <td>6</td>\n",
       "      <td>11</td>\n",
       "      <td>100</td>\n",
       "      <td>-0.552239</td>\n",
       "      <td>-0.486066</td>\n",
       "    </tr>\n",
       "    <tr>\n",
       "      <th>16</th>\n",
       "      <td>5</td>\n",
       "      <td>11</td>\n",
       "      <td>50</td>\n",
       "      <td>-0.552534</td>\n",
       "      <td>-0.497619</td>\n",
       "    </tr>\n",
       "  </tbody>\n",
       "</table>\n",
       "</div>"
      ],
      "text/plain": [
       "   param_max_depth param_max_features param_min_samples_split  \\\n",
       "26               6                 11                      50   \n",
       "37               7                 11                     100   \n",
       "36               7                 11                      50   \n",
       "27               6                 11                     100   \n",
       "16               5                 11                      50   \n",
       "\n",
       "    mean_test_score  mean_train_score  \n",
       "26        -0.548699         -0.468542  \n",
       "37        -0.551117         -0.467548  \n",
       "36        -0.551250         -0.443914  \n",
       "27        -0.552239         -0.486066  \n",
       "16        -0.552534         -0.497619  "
      ]
     },
     "execution_count": 152,
     "metadata": {},
     "output_type": "execute_result"
    }
   ],
   "source": [
    "grid_search_results.sort_values(\"mean_test_score\", ascending=False).head()"
   ]
  },
  {
   "cell_type": "markdown",
   "metadata": {},
   "source": [
    "We can access the best estimator of the grid search in this way"
   ]
  },
  {
   "cell_type": "code",
   "execution_count": 155,
   "metadata": {},
   "outputs": [],
   "source": [
    "best_tree = gs.best_estimator_"
   ]
  },
  {
   "cell_type": "code",
   "execution_count": 157,
   "metadata": {},
   "outputs": [
    {
     "data": {
      "text/plain": [
       "DecisionTreeRegressor(max_depth=6, max_features=11, min_samples_split=50)"
      ]
     },
     "execution_count": 157,
     "metadata": {},
     "output_type": "execute_result"
    }
   ],
   "source": [
    "best_tree"
   ]
  },
  {
   "cell_type": "code",
   "execution_count": 156,
   "metadata": {},
   "outputs": [
    {
     "data": {
      "text/plain": [
       "0.5438827787576582"
      ]
     },
     "execution_count": 156,
     "metadata": {},
     "output_type": "execute_result"
    }
   ],
   "source": [
    "mean_squared_error(best_tree.predict(X_test), y_test)"
   ]
  },
  {
   "cell_type": "markdown",
   "metadata": {},
   "source": [
    "## Feature importance"
   ]
  },
  {
   "cell_type": "markdown",
   "metadata": {},
   "source": [
    "How important were features for predicting `quality`? DecisionTreeRegressor has an attribute `feature_importances_`"
   ]
  },
  {
   "cell_type": "code",
   "execution_count": 162,
   "metadata": {},
   "outputs": [],
   "source": [
    "feature_imp = pd.Series(best_tree.feature_importances_, index=df.columns[:-1]).sort_values(ascending=False)"
   ]
  },
  {
   "cell_type": "code",
   "execution_count": 163,
   "metadata": {},
   "outputs": [
    {
     "data": {
      "text/plain": [
       "<AxesSubplot:>"
      ]
     },
     "execution_count": 163,
     "metadata": {},
     "output_type": "execute_result"
    },
    {
     "data": {
      "image/png": "[encoded data removed]",
      "text/plain": [
       "<Figure size 432x288 with 1 Axes>"
      ]
     },
     "metadata": {
      "needs_background": "light"
     },
     "output_type": "display_data"
    }
   ],
   "source": [
    "sns.barplot(x=feature_imp.values, y=feature_imp.index)"
   ]
  },
  {
   "cell_type": "code",
   "execution_count": 149,
   "metadata": {},
   "outputs": [
    {
     "data": {
      "image/png": "[encoded data removed]",
      "text/plain": [
       "<Figure size 1440x1440 with 1 Axes>"
      ]
     },
     "metadata": {
      "needs_background": "light"
     },
     "output_type": "display_data"
    }
   ],
   "source": [
    "fig = plt.figure(figsize=(20, 20))\n",
    "plot_tree(best_tree, feature_names=df.columns[:-1], filled=True);"
   ]
  },
  {
   "cell_type": "markdown",
   "metadata": {},
   "source": [
    "Save in format `.svg` for non-pixeled image!!"
   ]
  },
  {
   "cell_type": "code",
   "execution_count": 150,
   "metadata": {},
   "outputs": [],
   "source": [
    "fig.savefig(\"decision_tree.svg\", facecolor=\"white\")"
   ]
  },
  {
   "cell_type": "markdown",
   "metadata": {},
   "source": [
    "## Summary"
   ]
  },
  {
   "cell_type": "markdown",
   "metadata": {},
   "source": [
    " * Decision trees are useful for regression (`DecisionTreeRegressor`) and classification (`DecisionTreeClassifier`)\n",
    " * Their behavior is quite intuitive\n",
    " * Their behavior is interpretable and explainable"
   ]
  },
  {
   "cell_type": "markdown",
   "metadata": {},
   "source": [
    " * Decision trees overfit when `max_depth` becomes very big (obvious, individual leaves at the end)\n",
    " * Prevent overfitting (always, not only in tree based methods) by looking at test error"
   ]
  },
  {
   "cell_type": "markdown",
   "metadata": {},
   "source": [
    " * One decision tree is often not a very powerful ML algorithm\n",
    " * Decision trees are the building blocks of more advanced and superpowerful algorithms"
   ]
  }
 ],
 "metadata": {
  "kernelspec": {
   "display_name": "Python 3",
   "language": "python",
   "name": "python3"
  },
  "language_info": {
   "codemirror_mode": {
    "name": "ipython",
    "version": 3
   },
   "file_extension": ".py",
   "mimetype": "text/x-python",
   "name": "python",
   "nbconvert_exporter": "python",
   "pygments_lexer": "ipython3",
   "version": "3.8.5"
  },
  "toc": {
   "base_numbering": 1,
   "nav_menu": {},
   "number_sections": true,
   "sideBar": true,
   "skip_h1_title": true,
   "title_cell": "Table of Contents",
   "title_sidebar": "Contents",
   "toc_cell": true,
   "toc_position": {},
   "toc_section_display": true,
   "toc_window_display": true
  },
  "varInspector": {
   "cols": {
    "lenName": 16,
    "lenType": 16,
    "lenVar": 40
   },
   "kernels_config": {
    "python": {
     "delete_cmd_postfix": "",
     "delete_cmd_prefix": "del ",
     "library": "var_list.py",
     "varRefreshCmd": "print(var_dic_list())"
    },
    "r": {
     "delete_cmd_postfix": ") ",
     "delete_cmd_prefix": "rm(",
     "library": "var_list.r",
     "varRefreshCmd": "cat(var_dic_list()) "
    }
   },
   "types_to_exclude": [
    "module",
    "function",
    "builtin_function_or_method",
    "instance",
    "_Feature"
   ],
   "window_display": false
  }
 },
 "nbformat": 4,
 "nbformat_minor": 4
}
